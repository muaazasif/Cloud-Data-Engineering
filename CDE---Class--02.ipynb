{
 "cells": [
  {
   "cell_type": "markdown",
   "id": "b4d1036a",
   "metadata": {},
   "source": [
    "### Conditional Statement"
   ]
  },
  {
   "cell_type": "code",
   "execution_count": null,
   "id": "7c368735",
   "metadata": {},
   "outputs": [],
   "source": [
    "is_ramadan = False"
   ]
  },
  {
   "cell_type": "code",
   "execution_count": null,
   "id": "013fb81c",
   "metadata": {},
   "outputs": [],
   "source": [
    "if is_ramadan:\n",
    "    print(\"Timing: 10:00am to 1:00pm\")\n",
    "else:\n",
    "    print(\"Timing: 6:00pm to 9:00pm\")\n",
    "print(\"all ok...\")"
   ]
  },
  {
   "cell_type": "code",
   "execution_count": null,
   "id": "b2eb566a",
   "metadata": {},
   "outputs": [],
   "source": [
    "age=input(\"Enter Your Age \")"
   ]
  },
  {
   "cell_type": "code",
   "execution_count": null,
   "id": "d954d275",
   "metadata": {},
   "outputs": [],
   "source": [
    "if int(age) > 18 :\n",
    "    print(\"Ae you Eligible for CNIC and Enroll in Saylani Campus\")\n",
    "else:\n",
    "    print(\"Sorry Not Allowed\")"
   ]
  },
  {
   "cell_type": "code",
   "execution_count": null,
   "id": "a9737916",
   "metadata": {},
   "outputs": [],
   "source": [
    "print(\"A School has following rules for grading System!!!\")\n",
    "\n",
    "gd=input(\"Enter you Marks!!!\")\n",
    "\n",
    "if int(gd) >= 80:\n",
    "    print(\"Grade : A\")   \n",
    "elif int(gd) >= 60:\n",
    "    print(\"Grade : B\")    \n",
    "elif int(gd) >= 50:\n",
    "    print(\"Grade : C\")  \n",
    "elif int(gd) >= 45:\n",
    "    print(\"Grade : D\")    \n",
    "elif int(gd) >= 25:\n",
    "    print(\"Grade : E\")\n",
    "elif int(gd) < 25:\n",
    "    print(\"Grade : F\")    \n",
    "\n",
    "else:\n",
    "    print(\"Sorry Not Found\")"
   ]
  },
  {
   "cell_type": "code",
   "execution_count": 2,
   "id": "5c58d4a9",
   "metadata": {},
   "outputs": [
    {
     "name": "stdout",
     "output_type": "stream",
     "text": [
      "Place of Services\n",
      "Enter Your Gender Like M or F M\n",
      "Enter Your Martail Status Like Y or N Y\n",
      "Enter Your Age 100\n",
      "ERROR\n"
     ]
    }
   ],
   "source": [
    "print(\"Place of Services\")\n",
    "# print(\"\\n\")\n",
    "gender=input(\"Enter Your Gender Like M or F \")\n",
    "# print(\"\\n\")\n",
    "status=input(\"Enter Your Martail Status Like Y or N \")\n",
    "# print(\"\\n\")\n",
    "age=int(input(\"Enter Your Age \"))\n",
    "# print(\"\\n\")\n",
    "if gender ==\"F\":\n",
    "    print(\"Place in Urban Area\")\n",
    "elif (gender ==\"M\") and (age >=20 and age <=40):\n",
    "    print(\"Place in Any Where\")\n",
    "elif (gender ==\"M\") and (age>40 and age <=60):\n",
    "    print(\"Place in Urban Area\")\n",
    "else: \n",
    "    print(\"ERROR\")"
   ]
  },
  {
   "cell_type": "code",
   "execution_count": 4,
   "id": "80694f90",
   "metadata": {},
   "outputs": [
    {
     "name": "stdout",
     "output_type": "stream",
     "text": [
      "Place of Services\n",
      "Enter Your Gender Like M or F M\n",
      "Enter Your Marital Status Like Y or N Y\n",
      "Enter Your Age 59\n",
      "Place in Urban Area\n"
     ]
    }
   ],
   "source": [
    "print(\"Place of Services\")\n",
    "\n",
    "gender = input(\"Enter Your Gender Like M or F \")\n",
    "status = input(\"Enter Your Marital Status Like Y or N \")\n",
    "age = int(input(\"Enter Your Age \"))\n",
    "\n",
    "if gender == \"F\":\n",
    "    print(\"Place in Urban Area\")\n",
    "else:\n",
    "    if 20 <= age <= 40:\n",
    "        print(\"Place in Any Where\")\n",
    "    elif 40 < age <= 60:\n",
    "        print(\"Place in Urban Area\")\n",
    "    else:\n",
    "        print(\"ERROR\")\n"
   ]
  },
  {
   "cell_type": "code",
   "execution_count": 6,
   "id": "4100fb29",
   "metadata": {},
   "outputs": [
    {
     "data": {
      "text/plain": [
       "True"
      ]
     },
     "execution_count": 6,
     "metadata": {},
     "output_type": "execute_result"
    }
   ],
   "source": [
    "True or False"
   ]
  },
  {
   "cell_type": "markdown",
   "id": "f9a99f09",
   "metadata": {},
   "source": [
    "# LISTS"
   ]
  },
  {
   "cell_type": "code",
   "execution_count": 7,
   "id": "ed0ed40a",
   "metadata": {},
   "outputs": [],
   "source": [
    "countries=[\n",
    "    \"Pakistan\",\n",
    "    \"china\",\n",
    "    \"india\"\n",
    "]"
   ]
  },
  {
   "cell_type": "code",
   "execution_count": 8,
   "id": "d8e255b2",
   "metadata": {},
   "outputs": [
    {
     "data": {
      "text/plain": [
       "'Pakistan'"
      ]
     },
     "execution_count": 8,
     "metadata": {},
     "output_type": "execute_result"
    }
   ],
   "source": [
    "countries[0]"
   ]
  },
  {
   "cell_type": "code",
   "execution_count": 9,
   "id": "a71f89df",
   "metadata": {},
   "outputs": [
    {
     "data": {
      "text/plain": [
       "['Pakistan', 'china', 'india']"
      ]
     },
     "execution_count": 9,
     "metadata": {},
     "output_type": "execute_result"
    }
   ],
   "source": [
    "countries"
   ]
  },
  {
   "cell_type": "code",
   "execution_count": 10,
   "id": "bb1d3cb5",
   "metadata": {},
   "outputs": [
    {
     "data": {
      "text/plain": [
       "list"
      ]
     },
     "execution_count": 10,
     "metadata": {},
     "output_type": "execute_result"
    }
   ],
   "source": [
    "type(countries)"
   ]
  },
  {
   "cell_type": "code",
   "execution_count": 14,
   "id": "33c1e261",
   "metadata": {},
   "outputs": [],
   "source": [
    "countries.append(\"America\")"
   ]
  },
  {
   "cell_type": "code",
   "execution_count": 17,
   "id": "a8a8235a",
   "metadata": {},
   "outputs": [
    {
     "data": {
      "text/plain": [
       "['Pakistan', 'china', 'india', 'America']"
      ]
     },
     "execution_count": 17,
     "metadata": {},
     "output_type": "execute_result"
    }
   ],
   "source": [
    "countries"
   ]
  },
  {
   "cell_type": "code",
   "execution_count": 23,
   "id": "d8368090",
   "metadata": {},
   "outputs": [
    {
     "data": {
      "text/plain": [
       "'America'"
      ]
     },
     "execution_count": 23,
     "metadata": {},
     "output_type": "execute_result"
    }
   ],
   "source": [
    "countries.pop()"
   ]
  },
  {
   "cell_type": "code",
   "execution_count": 24,
   "id": "52ecada6",
   "metadata": {},
   "outputs": [
    {
     "data": {
      "text/plain": [
       "['Pakistan', 'china', 'india']"
      ]
     },
     "execution_count": 24,
     "metadata": {},
     "output_type": "execute_result"
    }
   ],
   "source": [
    "countries"
   ]
  },
  {
   "cell_type": "code",
   "execution_count": 27,
   "id": "340661c6",
   "metadata": {},
   "outputs": [],
   "source": [
    "countries.sort(reverse=True)\n"
   ]
  },
  {
   "cell_type": "code",
   "execution_count": 28,
   "id": "25a698b7",
   "metadata": {},
   "outputs": [
    {
     "data": {
      "text/plain": [
       "['india', 'china', 'Pakistan']"
      ]
     },
     "execution_count": 28,
     "metadata": {},
     "output_type": "execute_result"
    }
   ],
   "source": [
    "countries"
   ]
  },
  {
   "cell_type": "code",
   "execution_count": 29,
   "id": "4d836bcc",
   "metadata": {},
   "outputs": [],
   "source": [
    "countries.insert(0,\"UK\")"
   ]
  },
  {
   "cell_type": "code",
   "execution_count": 32,
   "id": "11e1a560",
   "metadata": {},
   "outputs": [],
   "source": [
    "countries[0]=\"Italy\""
   ]
  },
  {
   "cell_type": "code",
   "execution_count": 35,
   "id": "4a00fef8",
   "metadata": {},
   "outputs": [
    {
     "data": {
      "text/plain": [
       "['Pakistan']"
      ]
     },
     "execution_count": 35,
     "metadata": {},
     "output_type": "execute_result"
    }
   ],
   "source": [
    "countries[-1::]"
   ]
  },
  {
   "cell_type": "code",
   "execution_count": 36,
   "id": "2d7d97af",
   "metadata": {},
   "outputs": [
    {
     "data": {
      "text/plain": [
       "['Italy', 'india', 'china', 'Pakistan']"
      ]
     },
     "execution_count": 36,
     "metadata": {},
     "output_type": "execute_result"
    }
   ],
   "source": [
    "countries"
   ]
  },
  {
   "cell_type": "markdown",
   "id": "0d0646af",
   "metadata": {},
   "source": [
    "# LISTS : DELETING & REMOVING ELEMENTS"
   ]
  },
  {
   "cell_type": "code",
   "execution_count": 37,
   "id": "fd95ee34",
   "metadata": {},
   "outputs": [],
   "source": [
    "del countries[0]"
   ]
  },
  {
   "cell_type": "code",
   "execution_count": 38,
   "id": "9b4328a3",
   "metadata": {},
   "outputs": [
    {
     "data": {
      "text/plain": [
       "['india', 'china', 'Pakistan']"
      ]
     },
     "execution_count": 38,
     "metadata": {},
     "output_type": "execute_result"
    }
   ],
   "source": [
    "countries"
   ]
  },
  {
   "cell_type": "code",
   "execution_count": 39,
   "id": "d55b46e5",
   "metadata": {},
   "outputs": [],
   "source": [
    "countries.remove(\"india\")"
   ]
  },
  {
   "cell_type": "code",
   "execution_count": 40,
   "id": "85a2a448",
   "metadata": {},
   "outputs": [
    {
     "data": {
      "text/plain": [
       "['china', 'Pakistan']"
      ]
     },
     "execution_count": 40,
     "metadata": {},
     "output_type": "execute_result"
    }
   ],
   "source": [
    "countries"
   ]
  },
  {
   "cell_type": "markdown",
   "id": "c173afca",
   "metadata": {},
   "source": [
    "# LISTS : POPPING ELEMENTS"
   ]
  },
  {
   "cell_type": "code",
   "execution_count": 42,
   "id": "11be08da",
   "metadata": {},
   "outputs": [
    {
     "data": {
      "text/plain": [
       "'Pakistan'"
      ]
     },
     "execution_count": 42,
     "metadata": {},
     "output_type": "execute_result"
    }
   ],
   "source": [
    "countries.pop(1)"
   ]
  },
  {
   "cell_type": "code",
   "execution_count": 43,
   "id": "322bd87c",
   "metadata": {},
   "outputs": [
    {
     "data": {
      "text/plain": [
       "['china']"
      ]
     },
     "execution_count": 43,
     "metadata": {},
     "output_type": "execute_result"
    }
   ],
   "source": [
    "countries"
   ]
  },
  {
   "cell_type": "code",
   "execution_count": null,
   "id": "b9a09503",
   "metadata": {},
   "outputs": [],
   "source": []
  }
 ],
 "metadata": {
  "kernelspec": {
   "display_name": "Python 3 (ipykernel)",
   "language": "python",
   "name": "python3"
  },
  "language_info": {
   "codemirror_mode": {
    "name": "ipython",
    "version": 3
   },
   "file_extension": ".py",
   "mimetype": "text/x-python",
   "name": "python",
   "nbconvert_exporter": "python",
   "pygments_lexer": "ipython3",
   "version": "3.9.13"
  }
 },
 "nbformat": 4,
 "nbformat_minor": 5
}

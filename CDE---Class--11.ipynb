{
 "cells": [
  {
   "cell_type": "code",
   "execution_count": 16,
   "id": "610b415e",
   "metadata": {},
   "outputs": [
    {
     "name": "stdout",
     "output_type": "stream",
     "text": [
      "  Rank                                Bank Name Market Cap (US$ Billion)\n",
      "0    1                           JPMorgan Chase                   432.92\n",
      "1    2                          Bank of America                   231.52\n",
      "2    3  Industrial and Commercial Bank of China                   194.56\n",
      "3    4               Agricultural Bank of China                   160.68\n",
      "4    5                                HDFC Bank                   157.91\n",
      "5    6                              Wells Fargo                   155.87\n",
      "6    7                        HSBC Holdings PLC                   148.90\n",
      "7    8                           Morgan Stanley                   140.83\n",
      "8    9                  China Construction Bank                   139.82\n",
      "9   10                            Bank of China                   136.81\n"
     ]
    }
   ],
   "source": [
    "import requests\n",
    "from bs4 import BeautifulSoup\n",
    "import pandas as pd\n",
    "\n",
    "# Step 1: Get the page content\n",
    "url = \"https://web.archive.org/web/20230908091635/https://en.wikipedia.org/wiki/List_of_largest_banks\"\n",
    "response = requests.get(url)\n",
    "soup = BeautifulSoup(response.text, \"html.parser\")\n",
    "\n",
    "# Step 2: Locate the target table\n",
    "table = soup.find(\"table\", class_=\"wikitable\")\n",
    "\n",
    "# Step 3: Extract rows\n",
    "data = []\n",
    "for row in table.find_all(\"tr\")[1:]:  # skip the header\n",
    "    cols = row.find_all(\"td\")\n",
    "    if len(cols) == 3:\n",
    "        rank = cols[0].text.strip()\n",
    "        bank_name = cols[1].text.strip()\n",
    "        market_cap = cols[2].text.strip()\n",
    "        data.append([rank, bank_name, market_cap])\n",
    "        save_logs(\"Data has been extracted\")\n",
    "\n",
    "# Step 4: Convert to DataFrame\n",
    "df = pd.DataFrame(data, columns=[\"Rank\", \"Bank Name\", \"Market Cap (US$ Billion)\"])\n",
    "\n",
    "# Step 5: Display or save\n",
    "print(df)\n",
    "\n",
    "# Optional: Save to Excel or CSV\n",
    "# df.to_csv(\"top_banks.csv\", index=False)\n",
    "# df.to_excel(\"top_banks.xlsx\", index=False)\n"
   ]
  },
  {
   "cell_type": "markdown",
   "id": "32a6476d",
   "metadata": {},
   "source": [
    "Transform"
   ]
  },
  {
   "cell_type": "code",
   "execution_count": 5,
   "id": "e29e9bdc",
   "metadata": {},
   "outputs": [],
   "source": [
    "exchange=pd.read_excel(\"Exhange.xlsx\")"
   ]
  },
  {
   "cell_type": "code",
   "execution_count": 6,
   "id": "aa3f4a4c",
   "metadata": {},
   "outputs": [
    {
     "data": {
      "text/html": [
       "<div>\n",
       "<style scoped>\n",
       "    .dataframe tbody tr th:only-of-type {\n",
       "        vertical-align: middle;\n",
       "    }\n",
       "\n",
       "    .dataframe tbody tr th {\n",
       "        vertical-align: top;\n",
       "    }\n",
       "\n",
       "    .dataframe thead th {\n",
       "        text-align: right;\n",
       "    }\n",
       "</style>\n",
       "<table border=\"1\" class=\"dataframe\">\n",
       "  <thead>\n",
       "    <tr style=\"text-align: right;\">\n",
       "      <th></th>\n",
       "      <th>Currency</th>\n",
       "      <th>Rate</th>\n",
       "    </tr>\n",
       "  </thead>\n",
       "  <tbody>\n",
       "    <tr>\n",
       "      <th>0</th>\n",
       "      <td>Pkr</td>\n",
       "      <td>283.00</td>\n",
       "    </tr>\n",
       "    <tr>\n",
       "      <th>1</th>\n",
       "      <td>Eur</td>\n",
       "      <td>0.87</td>\n",
       "    </tr>\n",
       "    <tr>\n",
       "      <th>2</th>\n",
       "      <td>Inr</td>\n",
       "      <td>86.00</td>\n",
       "    </tr>\n",
       "    <tr>\n",
       "      <th>3</th>\n",
       "      <td>Gbp</td>\n",
       "      <td>0.74</td>\n",
       "    </tr>\n",
       "  </tbody>\n",
       "</table>\n",
       "</div>"
      ],
      "text/plain": [
       "  Currency    Rate\n",
       "0      Pkr  283.00\n",
       "1      Eur    0.87\n",
       "2      Inr   86.00\n",
       "3      Gbp    0.74"
      ]
     },
     "execution_count": 6,
     "metadata": {},
     "output_type": "execute_result"
    }
   ],
   "source": [
    "exchange"
   ]
  },
  {
   "cell_type": "code",
   "execution_count": 9,
   "id": "742eac91",
   "metadata": {},
   "outputs": [
    {
     "name": "stdout",
     "output_type": "stream",
     "text": [
      "  Rank                                Bank Name  Market Cap (US$ Billion)  \\\n",
      "0    1                           JPMorgan Chase                    432.92   \n",
      "1    2                          Bank of America                    231.52   \n",
      "2    3  Industrial and Commercial Bank of China                    194.56   \n",
      "3    4               Agricultural Bank of China                    160.68   \n",
      "4    5                                HDFC Bank                    157.91   \n",
      "5    6                              Wells Fargo                    155.87   \n",
      "6    7                        HSBC Holdings PLC                    148.90   \n",
      "7    8                           Morgan Stanley                    140.83   \n",
      "8    9                  China Construction Bank                    139.82   \n",
      "9   10                            Bank of China                    136.81   \n",
      "\n",
      "         Pkr       Eur       Inr       Gbp  \n",
      "0  122516.36  376.6404  37231.12  320.3608  \n",
      "1   65520.16  201.4224  19910.72  171.3248  \n",
      "2   55060.48  169.2672  16732.16  143.9744  \n",
      "3   45472.44  139.7916  13818.48  118.9032  \n",
      "4   44688.53  137.3817  13580.26  116.8534  \n",
      "5   44111.21  135.6069  13404.82  115.3438  \n",
      "6   42138.70  129.5430  12805.40  110.1860  \n",
      "7   39854.89  122.5221  12111.38  104.2142  \n",
      "8   39569.06  121.6434  12024.52  103.4668  \n",
      "9   38717.23  119.0247  11765.66  101.2394  \n"
     ]
    }
   ],
   "source": [
    "df['Market Cap (US$ Billion)'] = pd.to_numeric(df['Market Cap (US$ Billion)'], errors='coerce')\n",
    "\n",
    "for _, row in exchange.iterrows():\n",
    "    currency = row['Currency']\n",
    "    rate = row['Rate']\n",
    "    df[currency] = df['Market Cap (US$ Billion)'] * rate\n",
    "    save_logs(\"Data has been Transformed\")\n",
    "    \n",
    "\n",
    "\n",
    "# Step 4: Display result\n",
    "print(df)\n",
    "\n",
    "# Optional: Export to Excel\n",
    "df.to_excel(\"converted_bank_market_caps.xlsx\", index=False)"
   ]
  },
  {
   "cell_type": "code",
   "execution_count": 15,
   "id": "30a17591",
   "metadata": {},
   "outputs": [],
   "source": [
    "from datetime import datetime\n",
    "\n",
    "def save_logs(message):\n",
    "    with open(r'C:\\Users\\abx\\logs\\code_log.txt', 'a') as f:\n",
    "        f.write(f'{datetime.now()} : {message}\\n')\n"
   ]
  },
  {
   "cell_type": "markdown",
   "id": "9495ff97",
   "metadata": {},
   "source": [
    "Load"
   ]
  },
  {
   "cell_type": "code",
   "execution_count": null,
   "id": "73ed19e7",
   "metadata": {},
   "outputs": [],
   "source": [
    "df load():\n",
    "    df.to_excel(\"converted_bank_market_caps.xlsx\", index=False)"
   ]
  },
  {
   "cell_type": "code",
   "execution_count": 17,
   "id": "6f47e7be",
   "metadata": {},
   "outputs": [],
   "source": [
    "if __name__ =='__main__':\n",
    "    url= \"https://web.archive.org/web/20230908091635/https://en.wikipedia.org/wiki/List_of_largest_banks\"\n",
    "    \n"
   ]
  },
  {
   "cell_type": "code",
   "execution_count": null,
   "id": "fe615c53",
   "metadata": {},
   "outputs": [],
   "source": []
  },
  {
   "cell_type": "code",
   "execution_count": null,
   "id": "11b6e8a7",
   "metadata": {},
   "outputs": [],
   "source": []
  },
  {
   "cell_type": "markdown",
   "id": "7b9f4518",
   "metadata": {},
   "source": [
    "FULL AND COMPLETE APPLICATION"
   ]
  },
  {
   "cell_type": "code",
   "execution_count": 20,
   "id": "9c123e6c",
   "metadata": {},
   "outputs": [
    {
     "name": "stdout",
     "output_type": "stream",
     "text": [
      "  Rank                                Bank Name  Market Cap (US$ Billion)  \\\n",
      "0    1                           JPMorgan Chase                    432.92   \n",
      "1    2                          Bank of America                    231.52   \n",
      "2    3  Industrial and Commercial Bank of China                    194.56   \n",
      "3    4               Agricultural Bank of China                    160.68   \n",
      "4    5                                HDFC Bank                    157.91   \n",
      "5    6                              Wells Fargo                    155.87   \n",
      "6    7                        HSBC Holdings PLC                    148.90   \n",
      "7    8                           Morgan Stanley                    140.83   \n",
      "8    9                  China Construction Bank                    139.82   \n",
      "9   10                            Bank of China                    136.81   \n",
      "\n",
      "         Pkr       Eur       Inr       Gbp  \n",
      "0  122516.36  376.6404  37231.12  320.3608  \n",
      "1   65520.16  201.4224  19910.72  171.3248  \n",
      "2   55060.48  169.2672  16732.16  143.9744  \n",
      "3   45472.44  139.7916  13818.48  118.9032  \n",
      "4   44688.53  137.3817  13580.26  116.8534  \n",
      "5   44111.21  135.6069  13404.82  115.3438  \n",
      "6   42138.70  129.5430  12805.40  110.1860  \n",
      "7   39854.89  122.5221  12111.38  104.2142  \n",
      "8   39569.06  121.6434  12024.52  103.4668  \n",
      "9   38717.23  119.0247  11765.66  101.2394  \n"
     ]
    }
   ],
   "source": [
    "import requests\n",
    "from bs4 import BeautifulSoup\n",
    "import pandas as pd\n",
    "from datetime import datetime\n",
    "\n",
    "# Log helper\n",
    "def save_logs(message):\n",
    "    with open(r'C:\\Users\\abx\\logs\\code_log.txt', 'a') as f:\n",
    "        f.write(f'{datetime.now()} : {message}\\n')\n",
    "\n",
    "# Step 1: Extract data from URL\n",
    "def extract(url):\n",
    "    try:\n",
    "        response = requests.get(url)\n",
    "        soup = BeautifulSoup(response.text, \"html.parser\")\n",
    "        table = soup.find(\"table\", class_=\"wikitable\")\n",
    "\n",
    "        data = []\n",
    "        for row in table.find_all(\"tr\")[1:]:\n",
    "            cols = row.find_all(\"td\")\n",
    "            if len(cols) == 3:\n",
    "                rank = cols[0].text.strip()\n",
    "                bank_name = cols[1].text.strip()\n",
    "                market_cap = cols[2].text.strip().replace(\",\", \"\").replace(\"$\", \"\")\n",
    "                data.append([rank, bank_name, market_cap])\n",
    "                save_logs(f\"Extracted: {bank_name}\")\n",
    "\n",
    "        df = pd.DataFrame(data, columns=[\"Rank\", \"Bank Name\", \"Market Cap (US$ Billion)\"])\n",
    "        df['Market Cap (US$ Billion)'] = pd.to_numeric(df['Market Cap (US$ Billion)'], errors='coerce')\n",
    "        return df\n",
    "\n",
    "    except Exception as e:\n",
    "        save_logs(f\"Extraction failed: {e}\")\n",
    "        return pd.DataFrame()  # return empty if failed\n",
    "\n",
    "# Step 2: Transform using exchange rates\n",
    "def transform(df, exchange_file_path):\n",
    "    try:\n",
    "        exchange = pd.read_excel(exchange_file_path)\n",
    "        for _, row in exchange.iterrows():\n",
    "            currency = row['Currency']\n",
    "            rate = row['Rate']\n",
    "            df[currency] = df['Market Cap (US$ Billion)'] * rate\n",
    "            save_logs(f\"Transformed to: {currency}\")\n",
    "        return df\n",
    "    except Exception as e:\n",
    "        save_logs(f\"Transformation failed: {e}\")\n",
    "        return df\n",
    "\n",
    "# Step 3: Load/save to Excel\n",
    "def load_data(df, output_file_path):\n",
    "    try:\n",
    "        df.to_excel(output_file_path, index=False)\n",
    "        save_logs(f\"File saved to: {output_file_path}\")\n",
    "    except Exception as e:\n",
    "        save_logs(f\"Saving failed: {e}\")\n",
    "\n",
    "# ✅ Main logic\n",
    "if __name__ == '__main__':\n",
    "    url = \"https://web.archive.org/web/20230908091635/https://en.wikipedia.org/wiki/List_of_largest_banks\"\n",
    "    exchange_file_path = \"Exchange.xlsx\"\n",
    "    output_file_path = \"converted_bank_market_caps.xlsx\"\n",
    "\n",
    "    df = extract(url)\n",
    "    df = transform(df, exchange_file_path)\n",
    "    load_data(df, output_file_path)\n",
    "    print(df)\n"
   ]
  },
  {
   "cell_type": "code",
   "execution_count": null,
   "id": "c0e497ab",
   "metadata": {},
   "outputs": [],
   "source": []
  }
 ],
 "metadata": {
  "kernelspec": {
   "display_name": "Python 3 (ipykernel)",
   "language": "python",
   "name": "python3"
  },
  "language_info": {
   "codemirror_mode": {
    "name": "ipython",
    "version": 3
   },
   "file_extension": ".py",
   "mimetype": "text/x-python",
   "name": "python",
   "nbconvert_exporter": "python",
   "pygments_lexer": "ipython3",
   "version": "3.9.13"
  }
 },
 "nbformat": 4,
 "nbformat_minor": 5
}

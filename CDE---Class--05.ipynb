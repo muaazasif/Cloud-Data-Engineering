{
 "cells": [
  {
   "cell_type": "code",
   "execution_count": 2,
   "id": "b723d106",
   "metadata": {},
   "outputs": [
    {
     "name": "stdout",
     "output_type": "stream",
     "text": [
      "Enter a city name or \"q\" to exit the program:karachi\n",
      "karachi \n",
      "\n",
      "Enter a city name or \"q\" to exit the program:islamabad\n",
      "islamabad \n",
      "\n",
      "Enter a city name or \"q\" to exit the program:q\n",
      "Program Finished as User Entered \"q\" or \"0\"\n",
      "['karachi', 'islamabad']\n"
     ]
    }
   ],
   "source": [
    "user_input = \"\"\n",
    "cities = []\n",
    "while user_input != 'q' and user_input != '0':\n",
    "    user_input = input('Enter a city name or \"q\" to exit the program:')\n",
    "    if(user_input) != 'q' and (user_input != '0'):\n",
    "        cities.append(user_input)\n",
    "        print(user_input,'\\n')\n",
    "print('Program Finished as User Entered \"q\" or \"0\"')\n",
    "print(cities)"
   ]
  },
  {
   "cell_type": "code",
   "execution_count": null,
   "id": "22343598",
   "metadata": {},
   "outputs": [],
   "source": []
  },
  {
   "cell_type": "code",
   "execution_count": null,
   "id": "55565b47",
   "metadata": {},
   "outputs": [],
   "source": []
  },
  {
   "cell_type": "markdown",
   "id": "c8767b0c",
   "metadata": {},
   "source": [
    "# CLASSES"
   ]
  },
  {
   "cell_type": "code",
   "execution_count": 6,
   "id": "abe2b471",
   "metadata": {},
   "outputs": [
    {
     "name": "stdout",
     "output_type": "stream",
     "text": [
      "50\n"
     ]
    }
   ],
   "source": [
    "class Saylani:\n",
    "    def __init__(self, students):\n",
    "        self.students = students  # Use the parameter to set value\n",
    "\n",
    "# Create an instance of the class\n",
    "var = Saylani(50)\n",
    "\n",
    "# To verify\n",
    "print(var.students)  # Output: 50\n"
   ]
  },
  {
   "cell_type": "code",
   "execution_count": 7,
   "id": "388bac51",
   "metadata": {},
   "outputs": [],
   "source": [
    "class smit():\n",
    "    def __init__(self,name,course,students,months):\n",
    "        self.name=name\n",
    "        self.course=course\n",
    "        self.students=students\n",
    "        self.months=months\n",
    "    def sent(name,course):\n",
    "        print(f'{name} is teaching {course} at Saylani')\n",
    "        "
   ]
  },
  {
   "cell_type": "code",
   "execution_count": 8,
   "id": "6c525a33",
   "metadata": {},
   "outputs": [
    {
     "name": "stdout",
     "output_type": "stream",
     "text": [
      "Muaaz is teaching CDE at Saylani\n",
      "None\n"
     ]
    }
   ],
   "source": [
    "obj=smit('Muaaz','CDE',150,8)\n",
    "print(smit.sent('Muaaz','CDE'))"
   ]
  },
  {
   "cell_type": "code",
   "execution_count": null,
   "id": "3368d535",
   "metadata": {},
   "outputs": [],
   "source": []
  },
  {
   "cell_type": "markdown",
   "id": "b7b39ff4",
   "metadata": {},
   "source": [
    "# File handling"
   ]
  },
  {
   "cell_type": "code",
   "execution_count": 18,
   "id": "a8d4dcbd",
   "metadata": {},
   "outputs": [],
   "source": [
    "f=open('saylani.txt','w')\n",
    "f.write('First File''sssssssssssssssssssssss''aaaaaaaaaaaaaaaaaa')\n",
    "f.close()"
   ]
  },
  {
   "cell_type": "code",
   "execution_count": 19,
   "id": "6c961ae3",
   "metadata": {},
   "outputs": [],
   "source": [
    "f=open('saylani.txt','a')\n",
    "f.write('First File wow')\n",
    "f.close()"
   ]
  },
  {
   "cell_type": "code",
   "execution_count": 20,
   "id": "f61964cc",
   "metadata": {},
   "outputs": [
    {
     "data": {
      "text/plain": [
       "'First FilesssssssssssssssssssssssaaaaaaaaaaaaaaaaaaFirst File wow'"
      ]
     },
     "execution_count": 20,
     "metadata": {},
     "output_type": "execute_result"
    }
   ],
   "source": [
    "f=open('saylani.txt','r')\n",
    "f.read()"
   ]
  },
  {
   "cell_type": "code",
   "execution_count": 24,
   "id": "54d9ed8e",
   "metadata": {},
   "outputs": [
    {
     "name": "stdout",
     "output_type": "stream",
     "text": [
      "F\n",
      "i\n",
      "r\n",
      "s\n",
      "t\n",
      " \n",
      "F\n",
      "i\n",
      "l\n",
      "e\n",
      "\n",
      "\n"
     ]
    }
   ],
   "source": [
    "f = open('saylani.txt', 'r')\n",
    "for i in f.readline():\n",
    "    print(i)\n"
   ]
  },
  {
   "cell_type": "code",
   "execution_count": 25,
   "id": "34b88877",
   "metadata": {},
   "outputs": [
    {
     "name": "stdout",
     "output_type": "stream",
     "text": [
      "You are dividing number by zero which is not possible\n"
     ]
    }
   ],
   "source": [
    "try:\n",
    "    print(85/0)\n",
    "except ZeroDivisionError:\n",
    "    print('You are dividing number by zero which is not possible')"
   ]
  },
  {
   "cell_type": "code",
   "execution_count": 27,
   "id": "38ebddfd",
   "metadata": {},
   "outputs": [],
   "source": [
    "# rAISE AN EXCEPTION"
   ]
  },
  {
   "cell_type": "code",
   "execution_count": 29,
   "id": "2a0f5acb",
   "metadata": {},
   "outputs": [
    {
     "ename": "ZeroDivisionError",
     "evalue": "Kindly Enter Number",
     "output_type": "error",
     "traceback": [
      "\u001b[1;31m---------------------------------------------------------------------------\u001b[0m",
      "\u001b[1;31mZeroDivisionError\u001b[0m                         Traceback (most recent call last)",
      "\u001b[1;32m~\\AppData\\Local\\Temp\\ipykernel_1968\\3620347541.py\u001b[0m in \u001b[0;36m<module>\u001b[1;34m\u001b[0m\n\u001b[0;32m      2\u001b[0m \u001b[1;33m\u001b[0m\u001b[0m\n\u001b[0;32m      3\u001b[0m \u001b[1;32mif\u001b[0m \u001b[0mi\u001b[0m\u001b[1;33m<\u001b[0m\u001b[1;36m0\u001b[0m\u001b[1;33m:\u001b[0m\u001b[1;33m\u001b[0m\u001b[1;33m\u001b[0m\u001b[0m\n\u001b[1;32m----> 4\u001b[1;33m     \u001b[1;32mraise\u001b[0m \u001b[0mZeroDivisionError\u001b[0m\u001b[1;33m(\u001b[0m\u001b[1;34m'Kindly Enter Number'\u001b[0m\u001b[1;33m)\u001b[0m\u001b[1;33m\u001b[0m\u001b[1;33m\u001b[0m\u001b[0m\n\u001b[0m",
      "\u001b[1;31mZeroDivisionError\u001b[0m: Kindly Enter Number"
     ]
    }
   ],
   "source": [
    "i=-2\n",
    "\n",
    "if i<0:\n",
    "    raise ZeroDivisionError('Kindly Enter Number')"
   ]
  },
  {
   "cell_type": "code",
   "execution_count": null,
   "id": "068e4e1b",
   "metadata": {},
   "outputs": [],
   "source": []
  }
 ],
 "metadata": {
  "kernelspec": {
   "display_name": "Python 3 (ipykernel)",
   "language": "python",
   "name": "python3"
  },
  "language_info": {
   "codemirror_mode": {
    "name": "ipython",
    "version": 3
   },
   "file_extension": ".py",
   "mimetype": "text/x-python",
   "name": "python",
   "nbconvert_exporter": "python",
   "pygments_lexer": "ipython3",
   "version": "3.9.13"
  }
 },
 "nbformat": 4,
 "nbformat_minor": 5
}

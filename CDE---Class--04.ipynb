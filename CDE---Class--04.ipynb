{
 "cells": [
  {
   "cell_type": "markdown",
   "id": "32e9cb35",
   "metadata": {},
   "source": [
    "# Dictionary"
   ]
  },
  {
   "cell_type": "code",
   "execution_count": 1,
   "id": "c744bea8",
   "metadata": {},
   "outputs": [],
   "source": [
    "bio_data_dict={\n",
    "    'fistname':'Muaaz',\n",
    "    'lastname':'Asif',\n",
    "    'Dob':'27-Dec-1999'\n",
    "}"
   ]
  },
  {
   "cell_type": "code",
   "execution_count": 2,
   "id": "149269d2",
   "metadata": {},
   "outputs": [
    {
     "data": {
      "text/plain": [
       "{'fistname': 'Muaaz', 'lastname': 'Asif', 'Dob': '27-Dec-1999'}"
      ]
     },
     "execution_count": 2,
     "metadata": {},
     "output_type": "execute_result"
    }
   ],
   "source": [
    "bio_data_dict"
   ]
  },
  {
   "cell_type": "code",
   "execution_count": 4,
   "id": "05b97a91",
   "metadata": {},
   "outputs": [],
   "source": [
    "bio_data_dict['Professional']=['Service']"
   ]
  },
  {
   "cell_type": "code",
   "execution_count": 5,
   "id": "559f70f5",
   "metadata": {},
   "outputs": [
    {
     "data": {
      "text/plain": [
       "{'fistname': 'Muaaz',\n",
       " 'lastname': 'Asif',\n",
       " 'Dob': '27-Dec-1999',\n",
       " 'Professional': ['Service']}"
      ]
     },
     "execution_count": 5,
     "metadata": {},
     "output_type": "execute_result"
    }
   ],
   "source": [
    "bio_data_dict"
   ]
  },
  {
   "cell_type": "code",
   "execution_count": 6,
   "id": "f8485c05",
   "metadata": {},
   "outputs": [],
   "source": [
    "bio_data_dict['Professional']=['Data Engineer']"
   ]
  },
  {
   "cell_type": "code",
   "execution_count": 7,
   "id": "4172c287",
   "metadata": {},
   "outputs": [
    {
     "data": {
      "text/plain": [
       "{'fistname': 'Muaaz',\n",
       " 'lastname': 'Asif',\n",
       " 'Dob': '27-Dec-1999',\n",
       " 'Professional': ['Data Engineer']}"
      ]
     },
     "execution_count": 7,
     "metadata": {},
     "output_type": "execute_result"
    }
   ],
   "source": [
    "bio_data_dict"
   ]
  },
  {
   "cell_type": "code",
   "execution_count": 18,
   "id": "64f49e42",
   "metadata": {},
   "outputs": [],
   "source": [
    "bio_data_dict['Phone Number']=['0333247884','03335528285']"
   ]
  },
  {
   "cell_type": "code",
   "execution_count": 19,
   "id": "a0cfeac2",
   "metadata": {},
   "outputs": [
    {
     "data": {
      "text/plain": [
       "{'fistname': 'Muaaz',\n",
       " 'lastname': 'Asif',\n",
       " 'Dob': '27-Dec-1999',\n",
       " 'Professional': ['Data Engineer'],\n",
       " 'Phone Number': ['0333247884', '03335528285']}"
      ]
     },
     "execution_count": 19,
     "metadata": {},
     "output_type": "execute_result"
    }
   ],
   "source": [
    "bio_data_dict"
   ]
  },
  {
   "cell_type": "code",
   "execution_count": 20,
   "id": "96fd431c",
   "metadata": {},
   "outputs": [
    {
     "data": {
      "text/plain": [
       "'03335528285'"
      ]
     },
     "execution_count": 20,
     "metadata": {},
     "output_type": "execute_result"
    }
   ],
   "source": [
    "bio_data_dict['Phone Number'][1]"
   ]
  },
  {
   "cell_type": "code",
   "execution_count": 24,
   "id": "fc8e8c42",
   "metadata": {},
   "outputs": [
    {
     "data": {
      "text/plain": [
       "['1', '2', '5000', '1000', '515', '44444']"
      ]
     },
     "execution_count": 24,
     "metadata": {},
     "output_type": "execute_result"
    }
   ],
   "source": [
    "bio_data_dict['random']=['1','2','5000','1000','515','44444','51','1111','2222','4747','515151','10052','52526']\n",
    "num=int(len(bio_data_dict['random']))\n",
    "num=int(num/2)\n",
    "bio_data_dict['random'][:num]"
   ]
  },
  {
   "cell_type": "code",
   "execution_count": 27,
   "id": "82aa80c1",
   "metadata": {},
   "outputs": [
    {
     "name": "stdout",
     "output_type": "stream",
     "text": [
      "Muaaz\n"
     ]
    }
   ],
   "source": [
    "for i in bio_data_dict.keys():\n",
    "    if 'fistname' in i:\n",
    "        print(bio_data_dict[i])"
   ]
  },
  {
   "cell_type": "code",
   "execution_count": 28,
   "id": "24d8485a",
   "metadata": {},
   "outputs": [
    {
     "name": "stdout",
     "output_type": "stream",
     "text": [
      "{'Name': 'SUSAN ABDELLA', 'Title': 'Support Staff', 'Location': 'CENTRAL ELEMENTARY', 'Phone Number': '810-591-1902', 'Email': None}\n",
      "{'Name': 'CRYSTAL ABRAMSON', 'Title': 'Guidance Counselor', 'Location': 'Flushing High School', 'Phone Number': '810-591-3760', 'Email': None}\n",
      "{'Name': 'STACEY ADAMS', 'Title': 'Reading Interventionist', 'Location': 'CENTRAL ELEMENTARY', 'Phone Number': '810-591-1913', 'Email': None}\n",
      "{'Name': 'REBECCA ADRIANSE', 'Title': 'GUIDANCE COUNSELOR', 'Location': 'Flushing Middle School', 'Phone Number': '810-591-2830', 'Email': None}\n",
      "{'Name': 'MICHAEL ALFARO', 'Title': 'General Cleaner', 'Location': 'CENTRAL ELEMENTARY, SPRINGVIEW ELEMENTARY', 'Phone Number': '810-591-2795', 'Email': None}\n",
      "{'Name': 'OCTAVIE ALLEN', 'Title': 'Paraprofessional', 'Location': 'SPRINGVIEW ELEMENTARY', 'Phone Number': '810-591-8550', 'Email': None}\n",
      "{'Name': 'VICKI AMUNDSEN', 'Title': 'Paraprofessional', 'Location': 'Early Childhood Center', 'Phone Number': '810-591-2305', 'Email': None}\n",
      "{'Name': 'ANNA ANDERS', 'Title': 'Teacher', 'Location': 'ELMS ELEMENTARY', 'Phone Number': '810-591-7369', 'Email': None}\n",
      "{'Name': 'DAVE ANDERSON', 'Title': 'General Maintenance', 'Location': 'MAINTENANCE/WAREHOUSE', 'Phone Number': '810-591-2795', 'Email': None}\n",
      "{'Name': 'JOSEPH ANDERSON', 'Title': 'General Cleaner', 'Location': 'Flushing High School', 'Phone Number': '810-591-3860', 'Email': None}\n",
      "{'Name': 'SHAWN ANDREWS', 'Title': 'Athletic Director', 'Location': 'DISTRICT', 'Phone Number': '810-591-2680', 'Email': None}\n",
      "{'Name': 'KASSIE ANGER', 'Title': 'Paraprofessional', 'Location': 'ELMS ELEMENTARY', 'Phone Number': '810-591-7350', 'Email': None}\n",
      "{'Name': 'JASON APPLEGATE', 'Title': 'Courier', 'Location': 'WAREHOUSE', 'Phone Number': '810-591-2795', 'Email': None}\n",
      "{'Name': 'JILLIAN ARCEO', 'Title': 'ACADEMIC INTERVENTIONIST', 'Location': 'Flushing Middle School', 'Phone Number': '810-591-2824', 'Email': None}\n",
      "{'Name': 'FALLYN ARMSTRONG', 'Title': 'Teacher', 'Location': 'SPRINGVIEW ELEMENTARY', 'Phone Number': '810-591-8521', 'Email': None}\n"
     ]
    }
   ],
   "source": [
    "import requests\n",
    "from bs4 import BeautifulSoup\n",
    "\n",
    "url = \"https://www.flushingschools.org/about-directory\"\n",
    "\n",
    "try:\n",
    "    response = requests.get(url)\n",
    "    response.raise_for_status()  # Raise an exception for bad status codes\n",
    "\n",
    "    soup = BeautifulSoup(response.content, 'html.parser')\n",
    "    constituent_items = soup.find_all('div', class_='fsConstituentItem fsHasPhoto')\n",
    "\n",
    "    data = []\n",
    "    for item in constituent_items:\n",
    "        name_element = item.find('h3', class_='fsFullName').find('a')\n",
    "        name = name_element.text.strip() if name_element else None\n",
    "\n",
    "        titles_element = item.find('div', class_='fsTitles')\n",
    "        title = titles_element.text.replace('Titles:', '').strip() if titles_element else None\n",
    "\n",
    "        locations_element = item.find('div', class_='fsLocations')\n",
    "        location = locations_element.text.replace('Locations:', '').strip() if locations_element else None\n",
    "\n",
    "        phones_element = item.find('div', class_='fsPhones')\n",
    "        phone_number = None\n",
    "        if phones_element:\n",
    "            school_link = phones_element.find('a', href=lambda href: href and href.startswith('tel:'))\n",
    "            phone_number = school_link.text.strip() if school_link else None\n",
    "\n",
    "        data.append({'Name': name, 'Title': title, 'Location': location, 'Phone Number': phone_number, 'Email': None}) # Email will be None\n",
    "\n",
    "    for entry in data:\n",
    "        print(entry)\n",
    "\n",
    "except requests.exceptions.RequestException as e:\n",
    "    print(f\"Error fetching the URL: {e}\")\n",
    "except AttributeError as e:\n",
    "    print(f\"Error parsing the HTML: {e}\")"
   ]
  },
  {
   "cell_type": "code",
   "execution_count": 29,
   "id": "891daf56",
   "metadata": {},
   "outputs": [
    {
     "data": {
      "text/plain": [
       "[{'first_name': 'Qasim',\n",
       "  'last_name': 'Hassan',\n",
       "  'age': 15,\n",
       "  'weight': 75,\n",
       "  'profession': 'Data Engineer',\n",
       "  'phone number': ['246846', '32546946']},\n",
       " {'first_name': 'Uzair',\n",
       "  'last_name': 'Khan',\n",
       "  'age': 20,\n",
       "  'weight': 55,\n",
       "  'profession': 'Data Engineer',\n",
       "  'phone number': ['24677846', '3022546946']},\n",
       " {'first_name': 'Ayan',\n",
       "  'last_name': 'Hussain',\n",
       "  'age': 55,\n",
       "  'weight': 15,\n",
       "  'profession': 'Data Engineer',\n",
       "  'phone number': ['2446', '32946']}]"
      ]
     },
     "execution_count": 29,
     "metadata": {},
     "output_type": "execute_result"
    }
   ],
   "source": [
    "bio_data_dict = [\n",
    "    {\n",
    "       'first_name': 'Qasim',\n",
    "       'last_name': 'Hassan',\n",
    "       'age': 15,\n",
    "       'weight': 75,\n",
    "       'profession': 'Data Engineer',\n",
    "       'phone number': ['246846', '32546946'] \n",
    "    },\n",
    "    {\n",
    "       'first_name': 'Uzair',\n",
    "       'last_name': 'Khan',\n",
    "       'age': 20,\n",
    "       'weight': 55,\n",
    "       'profession': 'Data Engineer',\n",
    "       'phone number': ['24677846', '3022546946'] \n",
    "    },\n",
    "    {\n",
    "       'first_name': 'Ayan',\n",
    "       'last_name': 'Hussain',\n",
    "       'age': 55,\n",
    "       'weight': 15,\n",
    "       'profession': 'Data Engineer',\n",
    "       'phone number': ['2446', '32946'] \n",
    "    }\n",
    "]\n",
    "bio_data_dict"
   ]
  },
  {
   "cell_type": "code",
   "execution_count": 34,
   "id": "bce9b26a",
   "metadata": {},
   "outputs": [
    {
     "name": "stdout",
     "output_type": "stream",
     "text": [
      "Qasim Hassan\n",
      "Uzair Khan\n",
      "Ayan Hussain\n"
     ]
    }
   ],
   "source": [
    "for person in bio_data_dict:\n",
    "    print(f\"{person['first_name']} {person['last_name']}\")"
   ]
  },
  {
   "cell_type": "code",
   "execution_count": null,
   "id": "22f8b8ad",
   "metadata": {},
   "outputs": [],
   "source": []
  }
 ],
 "metadata": {
  "kernelspec": {
   "display_name": "Python 3 (ipykernel)",
   "language": "python",
   "name": "python3"
  },
  "language_info": {
   "codemirror_mode": {
    "name": "ipython",
    "version": 3
   },
   "file_extension": ".py",
   "mimetype": "text/x-python",
   "name": "python",
   "nbconvert_exporter": "python",
   "pygments_lexer": "ipython3",
   "version": "3.9.13"
  }
 },
 "nbformat": 4,
 "nbformat_minor": 5
}

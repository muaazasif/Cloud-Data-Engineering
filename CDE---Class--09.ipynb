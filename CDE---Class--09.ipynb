{
 "cells": [
  {
   "cell_type": "code",
   "execution_count": 1,
   "id": "ca3707c5",
   "metadata": {},
   "outputs": [],
   "source": [
    "import requests # for http methods get post\n",
    "from bs4 import BeautifulSoup\n",
    "import re\n",
    "import json"
   ]
  },
  {
   "cell_type": "code",
   "execution_count": 43,
   "id": "dc82c583",
   "metadata": {},
   "outputs": [],
   "source": [
    "import requests\n",
    "from bs4 import BeautifulSoup\n",
    "import json\n",
    "import re\n",
    "import csv\n",
    "\n",
    "url = 'https://www.thriftbooks.com/browse/?14236col#b.s=mostPopular-desc&b.p=1&b.pp=50&b.col&b.f.t%5B%5D=14236&b.list'\n",
    "web = requests.get(url).content\n",
    "soup = BeautifulSoup(web, 'html.parser')\n",
    "\n",
    "data = soup.find_all('script')\n",
    "string = data[12].string\n",
    "match = re.search(r'window.searchStoreV2\\s*=\\s*(\\{.*?\\});', string, re.DOTALL)\n",
    "\n",
    "if match:\n",
    "    works_json = json.loads(match.group(1))\n",
    "    works = works_json.get('works', [])\n",
    "\n",
    "    # Open CSV file for writing\n",
    "    with open('books.csv', mode='w', newline='', encoding='utf-8') as file:\n",
    "        writer = csv.writer(file)\n",
    "        # Write the header\n",
    "        writer.writerow(['Title', 'Author', 'Condition', 'Price'])\n",
    "\n",
    "        # Write each book's data\n",
    "        for book in works:\n",
    "            try:\n",
    "                title = book.get('title', 'N/A')\n",
    "                author_name = book['authors'][0]['authorName'] if book.get('authors') else 'Unknown'\n",
    "                condition = book.get('buyNowCondition', 'N/A')\n",
    "                buy_price = book.get('buyNowPrice', 'N/A')\n",
    "\n",
    "                writer.writerow([title, author_name, condition, buy_price])\n",
    "            except Exception as e:\n",
    "                print(f\"Error processing book: {e}\")\n"
   ]
  },
  {
   "cell_type": "code",
   "execution_count": 42,
   "id": "21855aca",
   "metadata": {},
   "outputs": [
    {
     "data": {
      "text/plain": [
       "24.39"
      ]
     },
     "execution_count": 42,
     "metadata": {},
     "output_type": "execute_result"
    }
   ],
   "source": [
    "datas['buyNowPrice']\n"
   ]
  },
  {
   "cell_type": "code",
   "execution_count": 9,
   "id": "a49cef58",
   "metadata": {},
   "outputs": [
    {
     "name": "stdout",
     "output_type": "stream",
     "text": [
      "1 - 50 of 21,259,538 resultsSort by:Most PopularRelevanceBestsellersTitle (A to Z)Title (Z to A)Publication Date (newest)Publication Date (oldest)Items per page:5103050Grid ViewTile ViewSelectedClearShow Out Of Stock ItemsUnselect Show Out Of Stock Items filterRefine Your SearchResetShow Out Of Stock Items Product TypesBooks Movies & TV Video Games Music Gifts GenresLiterature & Fiction Fiction History + 17 more FormatsHardcover Paperback Mass Market Paperback + 10 more ConditionsNew Like New Very Good Good Acceptable CollectiblesFirst Editions Signed Books All Collectibles LanguagesEnglish French German + 13 more Additional OptionsNew Releases ThriftBooks Deals Price RangeUnder $5$5 - $10$10 - $20$20 & AboveExcludeExcludeNineteen Eighty-FourGeorge Orwell$7.29 - $229.49Harry Potter and the Sorcerer's StoneJ.K. Rowling$3.59 - $299.79To Kill a MockingbirdHarper Lee$4.29 - $528.39Fahrenheit 451Ray Bradbury$6.59 - $106.89The Hunger GamesSuzanne Collins$4.19 - $52.19The AlchemistPaulo Coelho$4.79 - $256.69Animal Farm: A Fairy StoryGeorge Orwell$5.49 - $303.99Where the Crawdads SingDelia Owens$4.19 - $39.59Harry Potter and the Chamber of SecretsJ.K. Rowling$3.99 - $96.69The Four Agreements: A Practical Guide to Personal Freedom, A Toltec Wisdom BookMiguel Ruiz$5.49 - $65.39It Ends with UsColleen Hoover$4.19 - $53.78Harry Potter and the Prisoner of AzkabanJ.K. Rowling$4.19 - $141.99Catching FireSuzanne Collins$3.59 - $48.79The HobbitJ.R.R. Tolkien$4.19 - $128.48The Handmaid's TaleMargaret Atwood$8.69 - $81.59How to Win Friends and Influence PeopleDale Carnegie$4.69 - $235.19The Great GatsbyF. Scott Fitzgerald$3.79 - $231.79VerityColleen Hoover$5.39 - $285.59MockingjaySuzanne Collins$3.99 - $90.29Harry Potter and the Goblet of FireJ.K. Rowling$3.99 - $187.59Harry Potter and the Deathly HallowsJ.K. Rowling$3.99 - $405.39Charlotte's WebE.B. White$3.59 - $184.49The GiverLois Lowry$4.39 - $23.19Pride and PrejudiceJane Austen$3.89 - $310.49The Seven Husbands of Evelyn HugoTaylor Jenkins Reid$5.99 - $62.33Harry Potter and the Half-Blood PrinceJ.K. Rowling$4.29 - $59.29All the Light We Cannot SeeAnthony Doerr$4.39 - $70.88Green Eggs and HamDr. Seuss$3.59 - $69.29The Lion, the Witch and the WardrobeC.S. Lewis$3.89 - $54.79Man's Search for MeaningViktor E. Frankl$6.19 - $84.19The Book ThiefMarkus Zusak$4.39 - $42.89TwilightStephenie Meyer$3.99 - $53.89EducatedTara Westover$4.19 - $41.69Oh, the Thinks You Can Think!Dr. Seuss$3.59 - $54.89Lord of the FliesWilliam Golding$3.99 - $88.89Anne Frank: The Diary of a Young GirlAnne Frank$4.39 - $132.69The Silent PatientAlex Michaelides$6.59 - $37.99The NightingaleKristin Hannah$12.89 - $70.79The Power of Now: A Guide to Spiritual EnlightenmentEckhart Tolle$4.99 - $56.89Before We Were YoursLisa Wingate$4.19 - $55.29Brave New WorldAldous Huxley$4.09 - $102.99It Starts with UsColleen Hoover$4.59 - $51.06Mere ChristianityC.S. Lewis$4.49 - $251.49Hillbilly Elegy: A Memoir of a Family and Culture in CrisisJ.D. Vance$5.39 - $41.89Wuthering HeightsEmily Brontë$3.69 - $571.39One Fish, Two Fish, Red Fish, Blue FishDr. Seuss$3.59 - $35.99Rich Dad, Poor DadRobert T. Kiyosaki$3.99 - $99.79How the Grinch Stole Christmas!Dr. Seuss$4.19 - $235.59The Lightning ThiefRick Riordan$3.59 - $34.59Harry Potter and the Order of the PhoenixJ.K. Rowling$4.39 - $80.09Go to the Previous Page of 200Go to the Next Page\n"
     ]
    }
   ],
   "source": [
    "for title in titles:\n",
    "    print(title.text)"
   ]
  },
  {
   "cell_type": "code",
   "execution_count": 2,
   "id": "e45ac695",
   "metadata": {},
   "outputs": [
    {
     "name": "stdout",
     "output_type": "stream",
     "text": [
      "Scraping page 1...\n",
      "Scraping page 2...\n",
      "Scraping page 3...\n",
      "Scraping page 4...\n",
      "Scraping page 5...\n",
      "Scraping page 6...\n",
      "Scraping page 7...\n",
      "Scraping page 8...\n",
      "Scraping page 9...\n",
      "Scraping page 10...\n",
      "Scraping page 11...\n",
      "Scraping page 12...\n",
      "Scraping page 13...\n",
      "Scraping page 14...\n",
      "Scraping page 15...\n",
      "Scraping page 16...\n",
      "Scraping page 17...\n",
      "Scraping page 18...\n",
      "Scraping page 19...\n",
      "Scraping page 20...\n",
      "Scraping page 21...\n",
      "Scraping page 22...\n",
      "Scraping page 23...\n",
      "Scraping page 24...\n",
      "Scraping page 25...\n",
      "Scraping page 26...\n",
      "Scraping page 27...\n",
      "Scraping page 28...\n",
      "Scraping page 29...\n",
      "Scraping page 30...\n",
      "Scraping page 31...\n",
      "Scraping page 32...\n",
      "Scraping page 33...\n",
      "Scraping page 34...\n",
      "Scraping page 35...\n",
      "Scraping page 36...\n",
      "Scraping page 37...\n",
      "Scraping page 38...\n",
      "Scraping page 39...\n",
      "Scraping page 40...\n",
      "Scraping page 41...\n",
      "Scraping page 42...\n",
      "Scraping page 43...\n",
      "Scraping page 44...\n",
      "Scraping page 45...\n",
      "Scraping page 46...\n",
      "Scraping page 47...\n",
      "Scraping page 48...\n",
      "Scraping page 49...\n",
      "Scraping page 50...\n"
     ]
    }
   ],
   "source": [
    "import requests\n",
    "from bs4 import BeautifulSoup\n",
    "import json\n",
    "import re\n",
    "import csv\n",
    "\n",
    "# CSV setup: write headers once\n",
    "with open('books.csv', mode='w', newline='', encoding='utf-8') as file:\n",
    "    writer = csv.writer(file)\n",
    "    writer.writerow(['Title', 'Author', 'Condition', 'Price'])\n",
    "\n",
    "# Loop through 50 pages\n",
    "for page_num in range(1, 51):  # 1 to 50\n",
    "    print(f\"Scraping page {page_num}...\")\n",
    "    \n",
    "    url = f'https://www.thriftbooks.com/browse/?14236col#b.s=mostPopular-desc&b.p={page_num}&b.pp=50&b.col&b.f.t%5B%5D=14236&b.list'\n",
    "    web = requests.get(url).content\n",
    "    soup = BeautifulSoup(web, 'html.parser')\n",
    "    \n",
    "    data = soup.find_all('script')\n",
    "    if len(data) < 13 or not data[12].string:\n",
    "        print(f\"Skipping page {page_num}, script block not found.\")\n",
    "        continue\n",
    "\n",
    "    string = data[12].string\n",
    "    match = re.search(r'window.searchStoreV2\\s*=\\s*(\\{.*?\\});', string, re.DOTALL)\n",
    "\n",
    "    if match:\n",
    "        try:\n",
    "            works_json = json.loads(match.group(1))\n",
    "            works = works_json.get('works', [])\n",
    "        except Exception as e:\n",
    "            print(f\"Error parsing JSON on page {page_num}: {e}\")\n",
    "            continue\n",
    "\n",
    "        # Append book data to CSV\n",
    "        with open('books.csv', mode='a', newline='', encoding='utf-8') as file:\n",
    "            writer = csv.writer(file)\n",
    "\n",
    "            for book in works:\n",
    "                try:\n",
    "                    title = book.get('title', 'N/A')\n",
    "                    author_name = book['authors'][0]['authorName'] if book.get('authors') else 'Unknown'\n",
    "                    condition = book.get('buyNowCondition', 'N/A')\n",
    "                    buy_price = book.get('buyNowPrice', 'N/A')\n",
    "\n",
    "                    writer.writerow([title, author_name, condition, buy_price])\n",
    "                except Exception as e:\n",
    "                    print(f\"Error processing a book on page {page_num}: {e}\")\n",
    "    else:\n",
    "        print(f\"No data match on page {page_num}\")\n"
   ]
  },
  {
   "cell_type": "code",
   "execution_count": null,
   "id": "797a0167",
   "metadata": {},
   "outputs": [],
   "source": []
  },
  {
   "cell_type": "code",
   "execution_count": null,
   "id": "4c7fac7d",
   "metadata": {},
   "outputs": [],
   "source": []
  }
 ],
 "metadata": {
  "kernelspec": {
   "display_name": "Python 3 (ipykernel)",
   "language": "python",
   "name": "python3"
  },
  "language_info": {
   "codemirror_mode": {
    "name": "ipython",
    "version": 3
   },
   "file_extension": ".py",
   "mimetype": "text/x-python",
   "name": "python",
   "nbconvert_exporter": "python",
   "pygments_lexer": "ipython3",
   "version": "3.9.13"
  }
 },
 "nbformat": 4,
 "nbformat_minor": 5
}

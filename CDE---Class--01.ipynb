{
 "cells": [
  {
   "cell_type": "code",
   "execution_count": 1,
   "id": "55c0976e",
   "metadata": {},
   "outputs": [
    {
     "name": "stdout",
     "output_type": "stream",
     "text": [
      "CDE From Saylani !!!\n"
     ]
    }
   ],
   "source": [
    "print(\"CDE From Saylani !!!\")"
   ]
  },
  {
   "cell_type": "markdown",
   "id": "38c8abfd",
   "metadata": {},
   "source": [
    "### SHORTCUTS OF JUPYTER NOTEBOOK"
   ]
  },
  {
   "cell_type": "raw",
   "id": "d8907eb2",
   "metadata": {},
   "source": [
    "Shift + Enter => Cell Execute\n",
    "Esc + A=> Create cell above\n",
    "Esc + B=> Create cell above\n",
    "\"#\"=> Heading\n",
    "Esc + DD=> Delete cell\n",
    "Esc + R => Convert cell to raw (plain text)\n",
    "Esc + Y => Convert cell to raw (plain text)\n",
    "\n",
    "Ctrl + Shift + H => All Shortcuts commands"
   ]
  },
  {
   "cell_type": "markdown",
   "id": "27dc787a",
   "metadata": {},
   "source": [
    "# Varaibles\n"
   ]
  },
  {
   "cell_type": "raw",
   "id": "d3eb3438",
   "metadata": {},
   "source": [
    "\n",
    "- Varaible `Name` cannot start with number\n",
    "- Varaible name cannot have `space`\n",
    "- Can use `underscore \"-\"` instead of spaces\n",
    "- Cannot use any character expect \"-\"\n",
    "- Use precise (meaningful) and valid Name\n",
    "\n",
    "Note:Cannot Use the `reserve words` for varaible name\n"
   ]
  },
  {
   "cell_type": "code",
   "execution_count": 2,
   "id": "d244a213",
   "metadata": {},
   "outputs": [
    {
     "name": "stdout",
     "output_type": "stream",
     "text": [
      "<class 'int'>\n"
     ]
    }
   ],
   "source": [
    "a=5\n",
    "print(type(a))"
   ]
  },
  {
   "cell_type": "code",
   "execution_count": 3,
   "id": "6bf19694",
   "metadata": {},
   "outputs": [
    {
     "name": "stdout",
     "output_type": "stream",
     "text": [
      "<class 'float'>\n"
     ]
    }
   ],
   "source": [
    "a=5.1\n",
    "print(type(a))"
   ]
  },
  {
   "cell_type": "code",
   "execution_count": 4,
   "id": "d69bb78c",
   "metadata": {},
   "outputs": [
    {
     "name": "stdout",
     "output_type": "stream",
     "text": [
      "<class 'bool'>\n"
     ]
    }
   ],
   "source": [
    "a=True\n",
    "print(type(a))"
   ]
  },
  {
   "cell_type": "code",
   "execution_count": 5,
   "id": "65f15e50",
   "metadata": {},
   "outputs": [
    {
     "name": "stdout",
     "output_type": "stream",
     "text": [
      "<class 'str'>\n"
     ]
    }
   ],
   "source": [
    "a=\"Hey Saylani\"\n",
    "print(type(a))"
   ]
  },
  {
   "cell_type": "code",
   "execution_count": 6,
   "id": "ece6d273",
   "metadata": {},
   "outputs": [
    {
     "name": "stdout",
     "output_type": "stream",
     "text": [
      "<class 'int'>\n"
     ]
    }
   ],
   "source": [
    "weight=10\n",
    "print(type(weight))"
   ]
  },
  {
   "cell_type": "code",
   "execution_count": 7,
   "id": "80825dfa",
   "metadata": {},
   "outputs": [
    {
     "data": {
      "text/plain": [
       "110"
      ]
     },
     "execution_count": 7,
     "metadata": {},
     "output_type": "execute_result"
    }
   ],
   "source": [
    "weight+100"
   ]
  },
  {
   "cell_type": "code",
   "execution_count": 8,
   "id": "d10dc2ff",
   "metadata": {},
   "outputs": [
    {
     "data": {
      "text/plain": [
       "0"
      ]
     },
     "execution_count": 8,
     "metadata": {},
     "output_type": "execute_result"
    }
   ],
   "source": [
    "weight-10"
   ]
  },
  {
   "cell_type": "code",
   "execution_count": 9,
   "id": "2e72839f",
   "metadata": {},
   "outputs": [],
   "source": [
    "# weight=weight+100\n",
    "weight+=100\n"
   ]
  },
  {
   "cell_type": "code",
   "execution_count": 10,
   "id": "2935124e",
   "metadata": {},
   "outputs": [
    {
     "data": {
      "text/plain": [
       "110"
      ]
     },
     "execution_count": 10,
     "metadata": {},
     "output_type": "execute_result"
    }
   ],
   "source": [
    "weight"
   ]
  },
  {
   "cell_type": "code",
   "execution_count": 11,
   "id": "49b32aab",
   "metadata": {},
   "outputs": [],
   "source": [
    "Value_sub=5"
   ]
  },
  {
   "cell_type": "code",
   "execution_count": 12,
   "id": "586ef04f",
   "metadata": {},
   "outputs": [],
   "source": [
    "weight-=Value_sub"
   ]
  },
  {
   "cell_type": "code",
   "execution_count": 13,
   "id": "6189ff9d",
   "metadata": {},
   "outputs": [
    {
     "data": {
      "text/plain": [
       "105"
      ]
     },
     "execution_count": 13,
     "metadata": {},
     "output_type": "execute_result"
    }
   ],
   "source": [
    "weight"
   ]
  },
  {
   "cell_type": "code",
   "execution_count": 14,
   "id": "a1e6b8ea",
   "metadata": {},
   "outputs": [
    {
     "data": {
      "text/plain": [
       "20"
      ]
     },
     "execution_count": 14,
     "metadata": {},
     "output_type": "execute_result"
    }
   ],
   "source": [
    "19 + int(\"1\") # Type Casting"
   ]
  },
  {
   "cell_type": "markdown",
   "id": "7ebb65b2",
   "metadata": {},
   "source": [
    "# Math Expression"
   ]
  },
  {
   "cell_type": "code",
   "execution_count": 15,
   "id": "3f1c70f0",
   "metadata": {},
   "outputs": [
    {
     "data": {
      "text/plain": [
       "5"
      ]
     },
     "execution_count": 15,
     "metadata": {},
     "output_type": "execute_result"
    }
   ],
   "source": [
    "3+2"
   ]
  },
  {
   "cell_type": "code",
   "execution_count": 16,
   "id": "22888cdf",
   "metadata": {},
   "outputs": [
    {
     "data": {
      "text/plain": [
       "53"
      ]
     },
     "execution_count": 16,
     "metadata": {},
     "output_type": "execute_result"
    }
   ],
   "source": [
    "55-2"
   ]
  },
  {
   "cell_type": "code",
   "execution_count": 17,
   "id": "0b65458e",
   "metadata": {},
   "outputs": [
    {
     "data": {
      "text/plain": [
       "20"
      ]
     },
     "execution_count": 17,
     "metadata": {},
     "output_type": "execute_result"
    }
   ],
   "source": [
    "5*4"
   ]
  },
  {
   "cell_type": "code",
   "execution_count": 18,
   "id": "eb75676a",
   "metadata": {},
   "outputs": [
    {
     "data": {
      "text/plain": [
       "27.5"
      ]
     },
     "execution_count": 18,
     "metadata": {},
     "output_type": "execute_result"
    }
   ],
   "source": [
    "55/2"
   ]
  },
  {
   "cell_type": "code",
   "execution_count": 19,
   "id": "93c7db16",
   "metadata": {},
   "outputs": [
    {
     "data": {
      "text/plain": [
       "2"
      ]
     },
     "execution_count": 19,
     "metadata": {},
     "output_type": "execute_result"
    }
   ],
   "source": [
    "int(5/2)"
   ]
  },
  {
   "cell_type": "code",
   "execution_count": 20,
   "id": "96ca656a",
   "metadata": {},
   "outputs": [],
   "source": [
    "value=\"Muaaz\""
   ]
  },
  {
   "cell_type": "code",
   "execution_count": 21,
   "id": "55a6edf9",
   "metadata": {},
   "outputs": [
    {
     "data": {
      "text/plain": [
       "'Muaaz'"
      ]
     },
     "execution_count": 21,
     "metadata": {},
     "output_type": "execute_result"
    }
   ],
   "source": [
    "value"
   ]
  },
  {
   "cell_type": "code",
   "execution_count": 22,
   "id": "ab5ae310",
   "metadata": {},
   "outputs": [
    {
     "data": {
      "text/plain": [
       "2"
      ]
     },
     "execution_count": 22,
     "metadata": {},
     "output_type": "execute_result"
    }
   ],
   "source": [
    "11%3"
   ]
  },
  {
   "cell_type": "code",
   "execution_count": 23,
   "id": "1d1d6194",
   "metadata": {},
   "outputs": [
    {
     "data": {
      "text/plain": [
       "121"
      ]
     },
     "execution_count": 23,
     "metadata": {},
     "output_type": "execute_result"
    }
   ],
   "source": [
    "11**2"
   ]
  },
  {
   "cell_type": "markdown",
   "id": "69c6ea9d",
   "metadata": {},
   "source": [
    "# PEMDAS"
   ]
  },
  {
   "cell_type": "code",
   "execution_count": 24,
   "id": "ebcb8e41",
   "metadata": {},
   "outputs": [
    {
     "data": {
      "text/plain": [
       "16"
      ]
     },
     "execution_count": 24,
     "metadata": {},
     "output_type": "execute_result"
    }
   ],
   "source": [
    "1 + 3 * 5"
   ]
  },
  {
   "cell_type": "code",
   "execution_count": 25,
   "id": "efef8df9",
   "metadata": {},
   "outputs": [
    {
     "data": {
      "text/plain": [
       "34"
      ]
     },
     "execution_count": 25,
     "metadata": {},
     "output_type": "execute_result"
    }
   ],
   "source": [
    "(2 * 4) * 4 + 2"
   ]
  },
  {
   "cell_type": "markdown",
   "id": "dcb97652",
   "metadata": {},
   "source": [
    "# Concatenation text string"
   ]
  },
  {
   "cell_type": "code",
   "execution_count": 26,
   "id": "951593ff",
   "metadata": {},
   "outputs": [],
   "source": [
    "fname=\"Moiz\"\n",
    "lname=\"ahmed\"\n",
    "fullname=fname+ \" \" +lname"
   ]
  },
  {
   "cell_type": "code",
   "execution_count": 27,
   "id": "f7172f12",
   "metadata": {},
   "outputs": [
    {
     "data": {
      "text/plain": [
       "'Moiz ahmed'"
      ]
     },
     "execution_count": 27,
     "metadata": {},
     "output_type": "execute_result"
    }
   ],
   "source": [
    "fullname"
   ]
  },
  {
   "cell_type": "code",
   "execution_count": 28,
   "id": "769b9d41",
   "metadata": {},
   "outputs": [
    {
     "data": {
      "text/plain": [
       "'Moiz ahmed'"
      ]
     },
     "execution_count": 28,
     "metadata": {},
     "output_type": "execute_result"
    }
   ],
   "source": [
    "f'{fname} {lname}'"
   ]
  },
  {
   "cell_type": "code",
   "execution_count": 29,
   "id": "31808dc2",
   "metadata": {},
   "outputs": [
    {
     "data": {
      "text/plain": [
       "'Moiz ahmed'"
      ]
     },
     "execution_count": 29,
     "metadata": {},
     "output_type": "execute_result"
    }
   ],
   "source": [
    "'{0} {1}'.format(fname,lname)"
   ]
  }
 ],
 "metadata": {
  "kernelspec": {
   "display_name": "Python 3 (ipykernel)",
   "language": "python",
   "name": "python3"
  },
  "language_info": {
   "codemirror_mode": {
    "name": "ipython",
    "version": 3
   },
   "file_extension": ".py",
   "mimetype": "text/x-python",
   "name": "python",
   "nbconvert_exporter": "python",
   "pygments_lexer": "ipython3",
   "version": "3.9.13"
  }
 },
 "nbformat": 4,
 "nbformat_minor": 5
}

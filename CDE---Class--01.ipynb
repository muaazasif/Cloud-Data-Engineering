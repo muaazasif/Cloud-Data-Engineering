{
 "cells": [
  {
   "cell_type": "code",
   "execution_count": 2,
   "id": "1837ee8a",
   "metadata": {},
   "outputs": [
    {
     "name": "stdout",
     "output_type": "stream",
     "text": [
      "CDE From Saylani !!!\n"
     ]
    }
   ],
   "source": [
    "print(\"CDE From Saylani !!!\")"
   ]
  },
  {
   "cell_type": "markdown",
   "id": "f26ff581",
   "metadata": {},
   "source": [
    "### SHORTCUTS OF JUPYTER NOTEBOOK"
   ]
  },
  {
   "cell_type": "code",
   "execution_count": 70,
   "id": "13a92d94",
   "metadata": {},
   "outputs": [
    {
     "ename": "SyntaxError",
     "evalue": "invalid character '🚀' (U+1F680) (3684806007.py, line 3)",
     "output_type": "error",
     "traceback": [
      "\u001b[1;36m  File \u001b[1;32m\"C:\\Users\\abx\\AppData\\Local\\Temp\\ipykernel_12808\\3684806007.py\"\u001b[1;36m, line \u001b[1;32m3\u001b[0m\n\u001b[1;33m    🚀 **Shift + Enter** → Execute Cell\u001b[0m\n\u001b[1;37m    ^\u001b[0m\n\u001b[1;31mSyntaxError\u001b[0m\u001b[1;31m:\u001b[0m invalid character '🚀' (U+1F680)\n"
     ]
    }
   ],
   "source": []
  },
  {
   "cell_type": "markdown",
   "id": "835a371b",
   "metadata": {},
   "source": [
    "# Varaibles\n"
   ]
  },
  {
   "cell_type": "raw",
   "id": "32f0c419",
   "metadata": {},
   "source": [
    "\n",
    "- Varaible `Name` cannot start with number\n",
    "- Varaible name cannot have `space`\n",
    "- Can use `underscore \"-\"` instead of spaces\n",
    "- Cannot use any character expect \"-\"\n",
    "- Use precise (meaningful) and valid Name\n",
    "\n",
    "Note:Cannot Use the `reserve words` for varaible name\n"
   ]
  },
  {
   "cell_type": "code",
   "execution_count": 3,
   "id": "366f4b78",
   "metadata": {},
   "outputs": [
    {
     "name": "stdout",
     "output_type": "stream",
     "text": [
      "<class 'int'>\n"
     ]
    }
   ],
   "source": [
    "a=5\n",
    "print(type(a))"
   ]
  },
  {
   "cell_type": "code",
   "execution_count": 4,
   "id": "5416a0af",
   "metadata": {},
   "outputs": [
    {
     "name": "stdout",
     "output_type": "stream",
     "text": [
      "<class 'float'>\n"
     ]
    }
   ],
   "source": [
    "a=5.1\n",
    "print(type(a))"
   ]
  },
  {
   "cell_type": "code",
   "execution_count": 5,
   "id": "d41fd959",
   "metadata": {},
   "outputs": [
    {
     "name": "stdout",
     "output_type": "stream",
     "text": [
      "<class 'bool'>\n"
     ]
    }
   ],
   "source": [
    "a=True\n",
    "print(type(a))"
   ]
  },
  {
   "cell_type": "code",
   "execution_count": 6,
   "id": "78805e51",
   "metadata": {},
   "outputs": [
    {
     "name": "stdout",
     "output_type": "stream",
     "text": [
      "<class 'str'>\n"
     ]
    }
   ],
   "source": [
    "a=\"Hey Saylani\"\n",
    "print(type(a))"
   ]
  },
  {
   "cell_type": "code",
   "execution_count": 7,
   "id": "dcef8353",
   "metadata": {},
   "outputs": [
    {
     "name": "stdout",
     "output_type": "stream",
     "text": [
      "<class 'int'>\n"
     ]
    }
   ],
   "source": [
    "weight=50\n",
    "print(type(weight))"
   ]
  },
  {
   "cell_type": "code",
   "execution_count": 8,
   "id": "9e079a98",
   "metadata": {},
   "outputs": [
    {
     "data": {
      "text/plain": [
       "150"
      ]
     },
     "execution_count": 8,
     "metadata": {},
     "output_type": "execute_result"
    }
   ],
   "source": [
    "weight+100"
   ]
  },
  {
   "cell_type": "code",
   "execution_count": 9,
   "id": "442f115c",
   "metadata": {},
   "outputs": [
    {
     "data": {
      "text/plain": [
       "40"
      ]
     },
     "execution_count": 9,
     "metadata": {},
     "output_type": "execute_result"
    }
   ],
   "source": [
    "weight-10"
   ]
  },
  {
   "cell_type": "code",
   "execution_count": 12,
   "id": "e8315c1c",
   "metadata": {},
   "outputs": [],
   "source": [
    "# weight=weight+100\n",
    "weight+=100\n"
   ]
  },
  {
   "cell_type": "code",
   "execution_count": 20,
   "id": "7e45915b",
   "metadata": {},
   "outputs": [
    {
     "data": {
      "text/plain": [
       "250"
      ]
     },
     "execution_count": 20,
     "metadata": {},
     "output_type": "execute_result"
    }
   ],
   "source": [
    "weight"
   ]
  },
  {
   "cell_type": "code",
   "execution_count": 21,
   "id": "e388dae3",
   "metadata": {},
   "outputs": [],
   "source": [
    "Value_sub=5"
   ]
  },
  {
   "cell_type": "code",
   "execution_count": 22,
   "id": "448a4657",
   "metadata": {},
   "outputs": [],
   "source": [
    "weight-=Value_sub"
   ]
  },
  {
   "cell_type": "code",
   "execution_count": 23,
   "id": "92ad15a8",
   "metadata": {},
   "outputs": [
    {
     "data": {
      "text/plain": [
       "245"
      ]
     },
     "execution_count": 23,
     "metadata": {},
     "output_type": "execute_result"
    }
   ],
   "source": [
    "weight"
   ]
  },
  {
   "cell_type": "code",
   "execution_count": 28,
   "id": "fe7b2bdd",
   "metadata": {},
   "outputs": [
    {
     "data": {
      "text/plain": [
       "20"
      ]
     },
     "execution_count": 28,
     "metadata": {},
     "output_type": "execute_result"
    }
   ],
   "source": [
    "19 + int(\"1\") # Type Casting"
   ]
  },
  {
   "cell_type": "markdown",
   "id": "66bd00b8",
   "metadata": {},
   "source": [
    "# Math Expression"
   ]
  },
  {
   "cell_type": "code",
   "execution_count": 29,
   "id": "ec709718",
   "metadata": {},
   "outputs": [
    {
     "data": {
      "text/plain": [
       "5"
      ]
     },
     "execution_count": 29,
     "metadata": {},
     "output_type": "execute_result"
    }
   ],
   "source": [
    "3+2"
   ]
  },
  {
   "cell_type": "code",
   "execution_count": 30,
   "id": "bb555339",
   "metadata": {},
   "outputs": [
    {
     "data": {
      "text/plain": [
       "53"
      ]
     },
     "execution_count": 30,
     "metadata": {},
     "output_type": "execute_result"
    }
   ],
   "source": [
    "55-2"
   ]
  },
  {
   "cell_type": "code",
   "execution_count": 31,
   "id": "2414166e",
   "metadata": {},
   "outputs": [
    {
     "data": {
      "text/plain": [
       "20"
      ]
     },
     "execution_count": 31,
     "metadata": {},
     "output_type": "execute_result"
    }
   ],
   "source": [
    "5*4"
   ]
  },
  {
   "cell_type": "code",
   "execution_count": 33,
   "id": "31077545",
   "metadata": {},
   "outputs": [
    {
     "data": {
      "text/plain": [
       "27.5"
      ]
     },
     "execution_count": 33,
     "metadata": {},
     "output_type": "execute_result"
    }
   ],
   "source": [
    "55/2"
   ]
  },
  {
   "cell_type": "code",
   "execution_count": 42,
   "id": "6494113d",
   "metadata": {},
   "outputs": [
    {
     "data": {
      "text/plain": [
       "2"
      ]
     },
     "execution_count": 42,
     "metadata": {},
     "output_type": "execute_result"
    }
   ],
   "source": [
    "int(5/2)"
   ]
  },
  {
   "cell_type": "code",
   "execution_count": 44,
   "id": "f9092f0d",
   "metadata": {},
   "outputs": [],
   "source": [
    "value=\"Muaaz\""
   ]
  },
  {
   "cell_type": "code",
   "execution_count": 45,
   "id": "4c6932cb",
   "metadata": {},
   "outputs": [
    {
     "data": {
      "text/plain": [
       "'Muaaz'"
      ]
     },
     "execution_count": 45,
     "metadata": {},
     "output_type": "execute_result"
    }
   ],
   "source": [
    "value"
   ]
  },
  {
   "cell_type": "code",
   "execution_count": 48,
   "id": "7fd9a3eb",
   "metadata": {},
   "outputs": [
    {
     "data": {
      "text/plain": [
       "2"
      ]
     },
     "execution_count": 48,
     "metadata": {},
     "output_type": "execute_result"
    }
   ],
   "source": [
    "11%3"
   ]
  },
  {
   "cell_type": "code",
   "execution_count": 49,
   "id": "849acd1e",
   "metadata": {},
   "outputs": [
    {
     "data": {
      "text/plain": [
       "121"
      ]
     },
     "execution_count": 49,
     "metadata": {},
     "output_type": "execute_result"
    }
   ],
   "source": [
    "11**2"
   ]
  },
  {
   "cell_type": "markdown",
   "id": "66c3389f",
   "metadata": {},
   "source": [
    "# PEMDAS"
   ]
  },
  {
   "cell_type": "code",
   "execution_count": 51,
   "id": "84849f8d",
   "metadata": {},
   "outputs": [
    {
     "data": {
      "text/plain": [
       "16"
      ]
     },
     "execution_count": 51,
     "metadata": {},
     "output_type": "execute_result"
    }
   ],
   "source": [
    "1 + 3 * 5"
   ]
  },
  {
   "cell_type": "code",
   "execution_count": 52,
   "id": "86bf43fe",
   "metadata": {},
   "outputs": [
    {
     "data": {
      "text/plain": [
       "34"
      ]
     },
     "execution_count": 52,
     "metadata": {},
     "output_type": "execute_result"
    }
   ],
   "source": [
    "(2 * 4) * 4 + 2"
   ]
  },
  {
   "cell_type": "markdown",
   "id": "e6df5a22",
   "metadata": {},
   "source": [
    "# Concatenation text string"
   ]
  },
  {
   "cell_type": "code",
   "execution_count": 62,
   "id": "79d81fa0",
   "metadata": {},
   "outputs": [],
   "source": [
    "fname=\"Moiz\"\n",
    "lname=\"ahmed\"\n",
    "fullname=fname+ \" \" +lname"
   ]
  },
  {
   "cell_type": "code",
   "execution_count": 63,
   "id": "d3843aa4",
   "metadata": {},
   "outputs": [
    {
     "data": {
      "text/plain": [
       "'Moiz ahmed'"
      ]
     },
     "execution_count": 63,
     "metadata": {},
     "output_type": "execute_result"
    }
   ],
   "source": [
    "fullname"
   ]
  },
  {
   "cell_type": "code",
   "execution_count": 64,
   "id": "083e1fee",
   "metadata": {},
   "outputs": [
    {
     "data": {
      "text/plain": [
       "'Moiz ahmed'"
      ]
     },
     "execution_count": 64,
     "metadata": {},
     "output_type": "execute_result"
    }
   ],
   "source": [
    "f'{fname} {lname}'"
   ]
  },
  {
   "cell_type": "code",
   "execution_count": 68,
   "id": "2e588501",
   "metadata": {},
   "outputs": [
    {
     "data": {
      "text/plain": [
       "'Moiz ahmed'"
      ]
     },
     "execution_count": 68,
     "metadata": {},
     "output_type": "execute_result"
    }
   ],
   "source": [
    "'{0} {1}'.format(fname,lname)"
   ]
  },
  {
   "cell_type": "code",
   "execution_count": null,
   "id": "d19c117e",
   "metadata": {},
   "outputs": [],
   "source": []
  }
 ],
 "metadata": {
  "kernelspec": {
   "display_name": "Python 3 (ipykernel)",
   "language": "python",
   "name": "python3"
  },
  "language_info": {
   "codemirror_mode": {
    "name": "ipython",
    "version": 3
   },
   "file_extension": ".py",
   "mimetype": "text/x-python",
   "name": "python",
   "nbconvert_exporter": "python",
   "pygments_lexer": "ipython3",
   "version": "3.9.13"
  }
 },
 "nbformat": 4,
 "nbformat_minor": 5
}

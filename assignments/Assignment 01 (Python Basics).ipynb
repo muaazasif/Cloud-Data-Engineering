{
 "cells": [
  {
   "cell_type": "markdown",
   "metadata": {},
   "source": [
    "# Part -1 Python Basics (Variables)"
   ]
  },
  {
   "cell_type": "markdown",
   "metadata": {},
   "source": [
    "1. Print Your Name with your Father name and Date of birth using suitable escape sequence charactor"
   ]
  },
  {
   "cell_type": "code",
   "execution_count": 1,
   "metadata": {},
   "outputs": [
    {
     "name": "stdout",
     "output_type": "stream",
     "text": [
      "Name: Muhammad Muaaz\n",
      "Father's Name: Muhammad Asif\n",
      "Date of Birth: 27-12-1999\n"
     ]
    }
   ],
   "source": [
    "# Write your code here\n",
    "print(\"Name: Muhammad Muaaz\\nFather's Name: Muhammad Asif\\nDate of Birth: 27-12-1999\")\n"
   ]
  },
  {
   "cell_type": "markdown",
   "metadata": {},
   "source": [
    "2. Write your small bio using variables and print it using print function"
   ]
  },
  {
   "cell_type": "code",
   "execution_count": 2,
   "metadata": {},
   "outputs": [
    {
     "name": "stdout",
     "output_type": "stream",
     "text": [
      "👤 Name: Muhammad Muaaz\n",
      "👨‍👦 Father's Name: Muhammad Asif\n",
      "🎂 Date of Birth: 27-12-1999\n",
      "💻 Profession: Python Developer\n",
      "🎯 Hobby: Coding 💻 and Exploring New Technologies 🚀\n"
     ]
    }
   ],
   "source": [
    "# Write your code here\n",
    "# Storing bio data in variables\n",
    "name = \"Muhammad Muaaz\"\n",
    "father_name = \"Muhammad Asif\"\n",
    "dob = \"27-12-1999\"\n",
    "language = \"Python Developer\"\n",
    "hobby = \"Coding 💻 and Exploring New Technologies 🚀\"\n",
    "\n",
    "# Printing bio\n",
    "print(\"👤 Name:\", name)\n",
    "print(\"👨‍👦 Father's Name:\", father_name)\n",
    "print(\"🎂 Date of Birth:\", dob)\n",
    "print(\"💻 Profession:\", language)\n",
    "print(\"🎯 Hobby:\", hobby)\n"
   ]
  },
  {
   "cell_type": "markdown",
   "metadata": {},
   "source": [
    "3. Write a program in which use all the operators we can use in Python"
   ]
  },
  {
   "cell_type": "code",
   "execution_count": 4,
   "metadata": {},
   "outputs": [
    {
     "name": "stdout",
     "output_type": "stream",
     "text": [
      "Addition: 15\n",
      "Subtraction: 5\n",
      "Multiplication: 50\n",
      "Division: 2.0\n",
      "Floor Division: 2\n",
      "Modulus: 0\n",
      "Exponentiation: 100000\n",
      "\n",
      "Final value of x: 4.0\n",
      "\n",
      "Is a equal to b? False\n",
      "Is a not equal to b? True\n",
      "Is a greater than b? True\n",
      "Is a less than b? False\n",
      "Is a greater than or equal to b? True\n",
      "Is a less than or equal to b? False\n",
      "\n",
      "Logical AND: True\n",
      "Logical OR: True\n",
      "Logical NOT: False\n",
      "\n",
      "Bitwise AND: 0\n",
      "Bitwise OR: 15\n",
      "Bitwise XOR: 15\n",
      "Bitwise NOT: -11\n",
      "Left Shift: 40\n",
      "Right Shift: 2\n",
      "\n",
      "Identity Check: False\n",
      "Not Identity Check: True\n",
      "\n",
      "Is 20 in list? True\n",
      "Is 50 not in list? True\n"
     ]
    }
   ],
   "source": [
    "# 🎯 Arithmetic Operators\n",
    "a = 10\n",
    "b = 5\n",
    "\n",
    "print(\"Addition:\", a + b)\n",
    "print(\"Subtraction:\", a - b)\n",
    "print(\"Multiplication:\", a * b)\n",
    "print(\"Division:\", a / b)\n",
    "print(\"Floor Division:\", a // b)\n",
    "print(\"Modulus:\", a % b)\n",
    "print(\"Exponentiation:\", a ** b)\n",
    "\n",
    "# 🎯 Assignment Operators\n",
    "x = 20\n",
    "x += 5\n",
    "x -= 3\n",
    "x *= 2\n",
    "x /= 2\n",
    "x //= 2\n",
    "x %= 3\n",
    "x **= 2\n",
    "\n",
    "print(\"\\nFinal value of x:\", x)\n",
    "\n",
    "# 🎯 Comparison Operators\n",
    "print(\"\\nIs a equal to b?\", a == b)\n",
    "print(\"Is a not equal to b?\", a != b)\n",
    "print(\"Is a greater than b?\", a > b)\n",
    "print(\"Is a less than b?\", a < b)\n",
    "print(\"Is a greater than or equal to b?\", a >= b)\n",
    "print(\"Is a less than or equal to b?\", a <= b)\n",
    "\n",
    "# 🎯 Logical Operators\n",
    "print(\"\\nLogical AND:\", a > 5 and b < 10)\n",
    "print(\"Logical OR:\", a > 15 or b < 10)\n",
    "print(\"Logical NOT:\", not(a > 5))\n",
    "\n",
    "# 🎯 Bitwise Operators\n",
    "print(\"\\nBitwise AND:\", a & b)\n",
    "print(\"Bitwise OR:\", a | b)\n",
    "print(\"Bitwise XOR:\", a ^ b)\n",
    "print(\"Bitwise NOT:\", ~a)\n",
    "print(\"Left Shift:\", a << 2)\n",
    "print(\"Right Shift:\", a >> 2)\n",
    "\n",
    "# 🎯 Identity Operators\n",
    "print(\"\\nIdentity Check:\", a is b)\n",
    "print(\"Not Identity Check:\", a is not b)\n",
    "\n",
    "# 🎯 Membership Operators\n",
    "my_list = [10, 20, 30, 40]\n",
    "print(\"\\nIs 20 in list?\", 20 in my_list)\n",
    "print(\"Is 50 not in list?\", 50 not in my_list)\n"
   ]
  },
  {
   "cell_type": "markdown",
   "metadata": {},
   "source": [
    "4. Completes the following steps of small task:\n",
    "    - Mention Marks of English , Islamiat and Maths out of 100 in 3 different variables\n",
    "    - Mention Variable of Total Marks and assign 300 to it\n",
    "    - Calculate Percentage"
   ]
  },
  {
   "cell_type": "code",
   "execution_count": 6,
   "metadata": {},
   "outputs": [
    {
     "name": "stdout",
     "output_type": "stream",
     "text": [
      "Percentage =>  68.33333333333333\n"
     ]
    }
   ],
   "source": [
    "# Write your code here\n",
    "english=75\n",
    "islamiat=80\n",
    "Math=50\n",
    "TotalMarks=300\n",
    "\n",
    "Calper=((english+islamiat+Math)/TotalMarks)*100\n",
    "print(\"Percentage => \",Calper)"
   ]
  },
  {
   "cell_type": "markdown",
   "metadata": {},
   "source": [
    "# Part -2 Python Basics (Conditional Statements)"
   ]
  },
  {
   "cell_type": "markdown",
   "metadata": {},
   "source": [
    "1) A company decided to give bonus of 5% to employee if his/her year of service is more than 5 years.\n",
    "Ask user for their salary and year of service and print the net bonus amount."
   ]
  },
  {
   "cell_type": "code",
   "execution_count": 12,
   "metadata": {},
   "outputs": [
    {
     "name": "stdout",
     "output_type": "stream",
     "text": [
      "Enter Your Current Salary : 1000\n",
      "Enter Your Year of Service : 6\n",
      "The Net bonus amount 1050.0\n"
     ]
    }
   ],
   "source": [
    "#Type your code here\n",
    "salary=int(input(\"Enter Your Current Salary : \"))\n",
    "year=int(input(\"Enter Your Year of Service : \"))\n",
    "if year > 5:\n",
    "    net=salary+(salary*0.05)\n",
    "    print(\"The Net bonus amount\",net)\n",
    "else:\n",
    "    print(\"\")"
   ]
  },
  {
   "cell_type": "markdown",
   "metadata": {},
   "source": [
    "\n",
    "2) Write a program to check whether a person is eligible for voting or not. (accept age from user) if age is greater than 17 eligible otherwise not eligible"
   ]
  },
  {
   "cell_type": "code",
   "execution_count": 14,
   "metadata": {},
   "outputs": [
    {
     "name": "stdout",
     "output_type": "stream",
     "text": [
      "Enter Your Age For Voting Purpose : 17\n",
      "Eligible For Voting\n"
     ]
    }
   ],
   "source": [
    "#Type your code here\n",
    "age=int(input(\"Enter Your Age For Voting Purpose : \"))\n",
    "if age>=17:\n",
    "    print(\"Eligible For Voting\")\n",
    "else:\n",
    "    print(\"Not Eligible For Voting\")\n"
   ]
  },
  {
   "cell_type": "markdown",
   "metadata": {},
   "source": [
    "\n",
    "3) Write a program to check whether a number entered by user is even or odd."
   ]
  },
  {
   "cell_type": "code",
   "execution_count": 19,
   "metadata": {},
   "outputs": [
    {
     "name": "stdout",
     "output_type": "stream",
     "text": [
      "Enter Your Num : 11\n",
      "Your Number Is Old\n"
     ]
    }
   ],
   "source": [
    "#Type your code here\n",
    "num=int(input(\"Enter Your Num : \"))\n",
    "if (num%2)==0:\n",
    "    print(\"Your Number Is Even\")\n",
    "else:\n",
    "    print(\"Your Number Is Old\")"
   ]
  },
  {
   "cell_type": "markdown",
   "metadata": {},
   "source": [
    "4) Write a program to check whether a number is divisible by 7 or not.\n",
    "Show Answer"
   ]
  },
  {
   "cell_type": "code",
   "execution_count": 21,
   "metadata": {},
   "outputs": [
    {
     "name": "stdout",
     "output_type": "stream",
     "text": [
      "Enter Your Num : 13\n",
      "Number is Not Divisible by 7\n"
     ]
    }
   ],
   "source": [
    "#Type your code here\n",
    "nums=int(input(\"Enter Your Num : \"))\n",
    "if (nums%7)==0:\n",
    "    print(\"Number is Divisible by 7\")\n",
    "else:\n",
    "    print(\"Number is Not Divisible by 7\")\n"
   ]
  },
  {
   "cell_type": "markdown",
   "metadata": {},
   "source": [
    "5) Write a program to display \n",
    "\"Hello\" if a number entered by user is a multiple of five , otherwise print \"Bye\"."
   ]
  },
  {
   "cell_type": "code",
   "execution_count": 23,
   "metadata": {},
   "outputs": [
    {
     "name": "stdout",
     "output_type": "stream",
     "text": [
      "Enter a number: 4\n",
      "Bye\n"
     ]
    }
   ],
   "source": [
    "#Type your code here\n",
    "# Input from user\n",
    "num = int(input(\"Enter a number: \"))\n",
    "\n",
    "# Using conditional expression\n",
    "print(\"Hello\" if num % 5 == 0 else \"Bye\")\n"
   ]
  },
  {
   "cell_type": "markdown",
   "metadata": {},
   "source": [
    "7) Write a program to display the last digit of a number.\n"
   ]
  },
  {
   "cell_type": "code",
   "execution_count": 25,
   "metadata": {},
   "outputs": [
    {
     "name": "stdout",
     "output_type": "stream",
     "text": [
      "Enter a number: 505\n",
      "The last digit is: 5\n"
     ]
    }
   ],
   "source": [
    "#Type your code here\n",
    "# Input from user\n",
    "num = int(input(\"Enter a number: \"))\n",
    "\n",
    "# Get the last digit using modulus operator\n",
    "last_digit = num % 10\n",
    "\n",
    "# Print the result\n",
    "print(\"The last digit is:\", last_digit)\n"
   ]
  },
  {
   "cell_type": "markdown",
   "metadata": {},
   "source": [
    "9) Take values of length and breadth of a rectangle from user and print if it is square or rectangle."
   ]
  },
  {
   "cell_type": "code",
   "execution_count": 26,
   "metadata": {},
   "outputs": [
    {
     "name": "stdout",
     "output_type": "stream",
     "text": [
      "Enter Length: 10\n",
      "Enter Breadth: 10\n",
      "It's a Square 🟩\n"
     ]
    }
   ],
   "source": [
    "#Type your code here \n",
    "# Input length and breadth from user\n",
    "length = int(input(\"Enter Length: \"))\n",
    "breadth = int(input(\"Enter Breadth: \"))\n",
    "\n",
    "# Check condition\n",
    "if length == breadth:\n",
    "    print(\"It's a Square 🟩\")\n",
    "else:\n",
    "    print(\"It's a Rectangle 🟦\")\n"
   ]
  },
  {
   "cell_type": "markdown",
   "metadata": {},
   "source": [
    "10) Take two int values from user and print greatest among them."
   ]
  },
  {
   "cell_type": "code",
   "execution_count": 29,
   "metadata": {},
   "outputs": [
    {
     "name": "stdout",
     "output_type": "stream",
     "text": [
      "Enter first number: 10\n",
      "Enter second number: 30\n",
      "Integer 2 is greater than Integer 1\n"
     ]
    }
   ],
   "source": [
    "# Input two numbers from the user\n",
    "int1 = int(input(\"Enter first number: \"))\n",
    "int2 = int(input(\"Enter second number: \"))\n",
    "\n",
    "# Checking which number is greater\n",
    "if int1 > int2:\n",
    "    print(\"Integer 1 is greater than Integer 2\")\n",
    "elif int2 > int1:\n",
    "    print(\"Integer 2 is greater than Integer 1\")\n",
    "else:\n",
    "    print(\"Both numbers are equal\")\n"
   ]
  },
  {
   "cell_type": "markdown",
   "metadata": {},
   "source": [
    "11) A shop will give discount of 10% if the cost of purchased quantity is more than 1000.\n",
    "Ask user for quantity\n",
    "Suppose, one unit will cost 100.\n",
    "Judge and print total cost for user."
   ]
  },
  {
   "cell_type": "code",
   "execution_count": 30,
   "metadata": {},
   "outputs": [
    {
     "name": "stdout",
     "output_type": "stream",
     "text": [
      "Enter Quantity: 50\n",
      "Total Cost after Discount: 4500.0\n"
     ]
    }
   ],
   "source": [
    "#Type your code here\n",
    "# Input quantity from user\n",
    "quantity = int(input(\"Enter Quantity: \"))\n",
    "\n",
    "# Price of one unit\n",
    "unit_price = 100\n",
    "\n",
    "# Calculate total cost\n",
    "total_cost = quantity * unit_price\n",
    "\n",
    "# Apply 10% discount if total cost is greater than 1000\n",
    "if total_cost > 1000:\n",
    "    discount = total_cost * 0.10\n",
    "    total_cost -= discount\n",
    "\n",
    "# Print the final cost\n",
    "print(\"Total Cost after Discount:\", total_cost)\n"
   ]
  },
  {
   "cell_type": "markdown",
   "metadata": {},
   "source": [
    "12) A school has following rules for grading system:\n",
    "\n",
    "a. Below 25 - F\n",
    "\n",
    "b. 25 to 45 - E\n",
    "\n",
    "c. 45 to 50 - D\n",
    "\n",
    "d. 50 to 60 - C\n",
    "\n",
    "e. 60 to 80 - B\n",
    "\n",
    "f. Above 80 - A\n",
    "\n",
    "Ask user to enter marks and print the corresponding grade."
   ]
  },
  {
   "cell_type": "code",
   "execution_count": 31,
   "metadata": {},
   "outputs": [
    {
     "name": "stdout",
     "output_type": "stream",
     "text": [
      "Enter your marks: 60\n",
      "Grade: B\n"
     ]
    }
   ],
   "source": [
    "#Type your code here\n",
    "# Input marks from user\n",
    "marks = int(input(\"Enter your marks: \"))\n",
    "\n",
    "# Check conditions for grading\n",
    "if marks < 25:\n",
    "    print(\"Grade: F\")\n",
    "elif marks >= 25 and marks < 45:\n",
    "    print(\"Grade: E\")\n",
    "elif marks >= 45 and marks < 50:\n",
    "    print(\"Grade: D\")\n",
    "elif marks >= 50 and marks < 60:\n",
    "    print(\"Grade: C\")\n",
    "elif marks >= 60 and marks <= 80:\n",
    "    print(\"Grade: B\")\n",
    "else:\n",
    "    print(\"Grade: A\")\n"
   ]
  },
  {
   "cell_type": "markdown",
   "metadata": {},
   "source": [
    "14)A student will not be allowed to sit in exam if his/her attendence is less than 75%.\n",
    "\n",
    "Take following input from user\n",
    "\n",
    "- Number of classes held\n",
    "\n",
    "- Number of classes attended.\n",
    "\n",
    "And print\n",
    "\n",
    "- percentage of class attended\n",
    "\n",
    "- Is student is allowed to sit in exam or not.\n"
   ]
  },
  {
   "cell_type": "code",
   "execution_count": 32,
   "metadata": {},
   "outputs": [
    {
     "name": "stdout",
     "output_type": "stream",
     "text": [
      "Enter total number of classes held: 100\n",
      "Enter number of classes attended: 500\n",
      "📚 Your Attendance Percentage: 500.0 %\n",
      "✅ You are allowed to sit in the exam.\n"
     ]
    }
   ],
   "source": [
    "#Type your code here\n",
    "# Input from user\n",
    "total_classes = int(input(\"Enter total number of classes held: \"))\n",
    "attended_classes = int(input(\"Enter number of classes attended: \"))\n",
    "\n",
    "# Calculate attendance percentage\n",
    "attendance = (attended_classes / total_classes) * 100\n",
    "\n",
    "# Print the percentage\n",
    "print(\"📚 Your Attendance Percentage:\", attendance, \"%\")\n",
    "\n",
    "# Check eligibility\n",
    "if attendance >= 75:\n",
    "    print(\"✅ You are allowed to sit in the exam.\")\n",
    "else:\n",
    "    print(\"❌ You are not allowed to sit in the exam.\")\n"
   ]
  },
  {
   "cell_type": "markdown",
   "metadata": {},
   "source": [
    "15) Modify the above question to allow student to sit if he/she has medical cause. Ask user if he/she has medical cause or not ( 'Y' or 'N' ) and print accordingly."
   ]
  },
  {
   "cell_type": "code",
   "execution_count": 33,
   "metadata": {},
   "outputs": [
    {
     "name": "stdout",
     "output_type": "stream",
     "text": [
      "Enter total number of classes held: 100\n",
      "Enter number of classes attended: 500\n",
      "📚 Your Attendance Percentage: 500.0 %\n",
      "✅ You are allowed to sit in the exam.\n"
     ]
    }
   ],
   "source": [
    "#Type your code here\n",
    "# Input from user\n",
    "total_classes = int(input(\"Enter total number of classes held: \"))\n",
    "attended_classes = int(input(\"Enter number of classes attended: \"))\n",
    "\n",
    "# Calculate attendance percentage\n",
    "attendance = (attended_classes / total_classes) * 100\n",
    "\n",
    "# Print the percentage\n",
    "print(\"📚 Your Attendance Percentage:\", attendance, \"%\")\n",
    "\n",
    "# Check eligibility\n",
    "if attendance >= 75:\n",
    "    print(\"✅ You are allowed to sit in the exam.\")\n",
    "else:\n",
    "    # Ask for medical cause\n",
    "    medical_cause = input(\"Do you have a medical cause? (Y/N): \")\n",
    "\n",
    "    if medical_cause.upper() == 'Y':\n",
    "        print(\"🩺 Medical Reason Accepted ✅\")\n",
    "        print(\"✅ You are allowed to sit in the exam.\")\n",
    "    else:\n",
    "        print(\"❌ You are not allowed to sit in the exam.\")\n"
   ]
  },
  {
   "cell_type": "markdown",
   "metadata": {},
   "source": [
    "16) Write a program to check if a year is leap year or not.\n",
    "\n",
    "If a year is divisible by 4 then it is leap year but if the year is century year like 2000, 1900, 2100 then it must be divisible by 400."
   ]
  },
  {
   "cell_type": "code",
   "execution_count": 34,
   "metadata": {},
   "outputs": [
    {
     "name": "stdout",
     "output_type": "stream",
     "text": [
      "Enter a year: 1999\n",
      "❌ Not a Leap Year!\n"
     ]
    }
   ],
   "source": [
    "#Type your code here\n",
    "# Input year from user\n",
    "year = int(input(\"Enter a year: \"))\n",
    "\n",
    "# Check if it is a leap year\n",
    "if (year % 4 == 0 and year % 100 != 0) or (year % 400 == 0):\n",
    "    print(\"✅ It's a Leap Year!\")\n",
    "else:\n",
    "    print(\"❌ Not a Leap Year!\")\n"
   ]
  },
  {
   "cell_type": "markdown",
   "metadata": {},
   "source": [
    "17) Ask user to enter age, gender ( M or F ), marital status ( Y or N ) and then using following rules print their place of service.\n",
    "\n",
    "if employee is female, then she will work only in urban areas.\n",
    "\n",
    "if employee is a male and age is in between 20 to 40 then he may work in anywhere\n",
    "\n",
    "if employee is male and age is in between 40 t0 60 then he will work in urban areas only.\n",
    "\n",
    "And any other input of age should print \"ERROR\""
   ]
  },
  {
   "cell_type": "code",
   "execution_count": 35,
   "metadata": {},
   "outputs": [
    {
     "name": "stdout",
     "output_type": "stream",
     "text": [
      "Enter your age: 25\n",
      "Enter your gender (M/F): M\n",
      "Marital Status (Y/N): N\n",
      "🧑‍💼 You can work Anywhere.\n"
     ]
    }
   ],
   "source": [
    "#Type your code here\n",
    "# Input from user\n",
    "age = int(input(\"Enter your age: \"))\n",
    "gender = input(\"Enter your gender (M/F): \").upper()\n",
    "marital_status = input(\"Marital Status (Y/N): \").upper()\n",
    "\n",
    "# Conditions for place of service\n",
    "if gender == 'F':\n",
    "    print(\"👩‍💼 You will work only in Urban Areas.\")\n",
    "elif gender == 'M':\n",
    "    if 20 <= age <= 40:\n",
    "        print(\"🧑‍💼 You can work Anywhere.\")\n",
    "    elif 40 < age <= 60:\n",
    "        print(\"🧑‍💼 You will work only in Urban Areas.\")\n",
    "    else:\n",
    "        print(\"❌ ERROR: Invalid Age.\")\n",
    "else:\n",
    "    print(\"❌ ERROR: Invalid Gender Input.\")\n"
   ]
  },
  {
   "cell_type": "markdown",
   "metadata": {},
   "source": [
    "6) Write a program to calculate the electricity bill (accept number of unit from user) according to the following criteria :\n",
    "     Unit                                                     Price  \n",
    "uptp 100 units                                             no charge\n",
    "Next 200 units                                              Rs 5 per unit\n",
    "After 200 units                                             Rs 10 per unit\n",
    "(For example if input unit is 350 than total bill amount is Rs.3500\n",
    "(For example if input unit is 97 than total bill amount is Rs.0\n",
    "(For example if input unit is 150 than total bill amount is Rs.750"
   ]
  },
  {
   "cell_type": "code",
   "execution_count": 36,
   "metadata": {},
   "outputs": [
    {
     "name": "stdout",
     "output_type": "stream",
     "text": [
      "Enter number of units: 50\n",
      "💡 Your Electricity Bill: Rs. 0\n"
     ]
    }
   ],
   "source": [
    "#Type your code here\n",
    "# Input number of units from user\n",
    "units = int(input(\"Enter number of units: \"))\n",
    "\n",
    "# Conditions to calculate bill\n",
    "if units <= 100:\n",
    "    bill = 0\n",
    "elif units <= 200:\n",
    "    bill = (units - 100) * 5\n",
    "else:\n",
    "    bill = (200 - 100) * 5 + (units - 200) * 10\n",
    "\n",
    "# Print the total bill\n",
    "print(\"💡 Your Electricity Bill: Rs.\", bill)\n"
   ]
  },
  {
   "cell_type": "markdown",
   "metadata": {},
   "source": [
    "13) Take input of age of 3 people by user and determine oldest and youngest among them."
   ]
  },
  {
   "cell_type": "code",
   "execution_count": 37,
   "metadata": {},
   "outputs": [
    {
     "name": "stdout",
     "output_type": "stream",
     "text": [
      "Enter age of first person: 15\n",
      "Enter age of second person: 18\n",
      "Enter age of third person: 25\n",
      "👴 The Oldest Age is: 25\n",
      "🧒 The Youngest Age is: 15\n"
     ]
    }
   ],
   "source": [
    "#Type your code here\n",
    "# Input ages from user\n",
    "age1 = int(input(\"Enter age of first person: \"))\n",
    "age2 = int(input(\"Enter age of second person: \"))\n",
    "age3 = int(input(\"Enter age of third person: \"))\n",
    "\n",
    "# Finding oldest and youngest\n",
    "oldest = max(age1, age2, age3)\n",
    "youngest = min(age1, age2, age3)\n",
    "\n",
    "# Printing the result\n",
    "print(\"👴 The Oldest Age is:\", oldest)\n",
    "print(\"🧒 The Youngest Age is:\", youngest)\n"
   ]
  },
  {
   "cell_type": "code",
   "execution_count": null,
   "metadata": {},
   "outputs": [],
   "source": []
  }
 ],
 "metadata": {
  "kernelspec": {
   "display_name": "Python 3 (ipykernel)",
   "language": "python",
   "name": "python3"
  },
  "language_info": {
   "codemirror_mode": {
    "name": "ipython",
    "version": 3
   },
   "file_extension": ".py",
   "mimetype": "text/x-python",
   "name": "python",
   "nbconvert_exporter": "python",
   "pygments_lexer": "ipython3",
   "version": "3.9.13"
  }
 },
 "nbformat": 4,
 "nbformat_minor": 2
}

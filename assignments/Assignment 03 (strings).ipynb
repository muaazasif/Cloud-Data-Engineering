{
 "cells": [
  {
   "cell_type": "code",
   "execution_count": 1,
   "id": "0ca8549e",
   "metadata": {},
   "outputs": [
    {
     "name": "stdout",
     "output_type": "stream",
     "text": [
      "Enter a string: A\n",
      "Number of vowels: 1\n"
     ]
    }
   ],
   "source": [
    "# 1. Count and Display Number of Vowels in a String\n",
    "string = input(\"Enter a string: \")\n",
    "vowels = \"aeiouAEIOU\"\n",
    "vowel_count = sum(1 for char in string if char in vowels)\n",
    "print(\"Number of vowels:\", vowel_count)\n"
   ]
  },
  {
   "cell_type": "code",
   "execution_count": 2,
   "id": "a46908bb",
   "metadata": {},
   "outputs": [
    {
     "name": "stdout",
     "output_type": "stream",
     "text": [
      "Enter a string: MUAAZ\n",
      "Uppercase: 5 Lowercase: 0 Digits: 0 Whitespaces: 0\n"
     ]
    }
   ],
   "source": [
    "# 2. Count Uppercase, Lowercase, Digits, and Whitespaces\n",
    "string = input(\"Enter a string: \")\n",
    "uppercase = sum(1 for char in string if char.isupper())\n",
    "lowercase = sum(1 for char in string if char.islower())\n",
    "digits = sum(1 for char in string if char.isdigit())\n",
    "whitespaces = sum(1 for char in string if char.isspace())\n",
    "print(\"Uppercase:\", uppercase, \"Lowercase:\", lowercase, \"Digits:\", digits, \"Whitespaces:\", whitespaces)"
   ]
  },
  {
   "cell_type": "code",
   "execution_count": 3,
   "id": "880b66f5",
   "metadata": {},
   "outputs": [
    {
     "name": "stdout",
     "output_type": "stream",
     "text": [
      "Enter a string: MUAAZ\n",
      "New string: ZUAAM\n"
     ]
    }
   ],
   "source": [
    "# 3. Swap First and Last Character\n",
    "string = input(\"Enter a string: \")\n",
    "if len(string) > 1:\n",
    "    new_string = string[-1] + string[1:-1] + string[0]\n",
    "else:\n",
    "    new_string = string\n",
    "print(\"New string:\", new_string)"
   ]
  },
  {
   "cell_type": "code",
   "execution_count": 4,
   "id": "4c3efef3",
   "metadata": {},
   "outputs": [
    {
     "name": "stdout",
     "output_type": "stream",
     "text": [
      "Enter a string: MUAA\n",
      "Reversed string: AAUM\n"
     ]
    }
   ],
   "source": [
    "# 4. Reverse String\n",
    "string = input(\"Enter a string: \")\n",
    "new_string = \"\".join(reversed(string))\n",
    "print(\"Reversed string:\", new_string)\n"
   ]
  },
  {
   "cell_type": "code",
   "execution_count": 5,
   "id": "4f65c48a",
   "metadata": {},
   "outputs": [
    {
     "name": "stdout",
     "output_type": "stream",
     "text": [
      "Enter a string: AAA\n",
      "Shifted string: AAA\n"
     ]
    }
   ],
   "source": [
    "# 5. Shift One Position to Left\n",
    "string = input(\"Enter a string: \")\n",
    "if len(string) > 1:\n",
    "    new_string = string[1:] + string[0]\n",
    "else:\n",
    "    new_string = string\n",
    "print(\"Shifted string:\", new_string)"
   ]
  },
  {
   "cell_type": "code",
   "execution_count": 6,
   "id": "4e0d9c2b",
   "metadata": {},
   "outputs": [
    {
     "name": "stdout",
     "output_type": "stream",
     "text": [
      "Enter your full name: MUHAMMAD MUAAZ\n",
      "Initials: M. M.\n"
     ]
    }
   ],
   "source": [
    "# 6. Print Initials Without split()\n",
    "name = input(\"Enter your full name: \")\n",
    "initials = \"\".join([char + \". \" for i, char in enumerate(name) if i == 0 or name[i-1] == \" \"])\n",
    "print(\"Initials:\", initials.strip())"
   ]
  },
  {
   "cell_type": "code",
   "execution_count": 7,
   "id": "8840e710",
   "metadata": {},
   "outputs": [
    {
     "name": "stdout",
     "output_type": "stream",
     "text": [
      "Enter a string: MUAAZ\n",
      "Not a palindrome\n"
     ]
    }
   ],
   "source": [
    "# 7. Check Palindrome Without reverse()\n",
    "string = input(\"Enter a string: \")\n",
    "if string == string[::-1]:\n",
    "    print(\"Palindrome\")\n",
    "else:\n",
    "    print(\"Not a palindrome\")"
   ]
  },
  {
   "cell_type": "code",
   "execution_count": 8,
   "id": "4617f05b",
   "metadata": {},
   "outputs": [
    {
     "name": "stdout",
     "output_type": "stream",
     "text": [
      "SHIFT\n",
      "HIFTS\n",
      "IFTSH\n",
      "FTSHI\n",
      "TSHIF\n"
     ]
    }
   ],
   "source": [
    "# 8. Display SHIFT Rotation\n",
    "word = \"SHIFT\"\n",
    "for i in range(len(word)):\n",
    "    print(word[i:] + word[:i])\n"
   ]
  },
  {
   "cell_type": "code",
   "execution_count": 9,
   "id": "99a45b54",
   "metadata": {},
   "outputs": [
    {
     "name": "stdout",
     "output_type": "stream",
     "text": [
      "Enter a password: 1111\n",
      "Invalid password. Must contain at least 8 characters, an uppercase letter, a lowercase letter, and a digit.\n"
     ]
    }
   ],
   "source": [
    "# 9. Password Validation\n",
    "password = input(\"Enter a password: \")\n",
    "if (len(password) >= 8 and\n",
    "    any(char.isupper() for char in password) and\n",
    "    any(char.islower() for char in password) and\n",
    "    any(char.isdigit() for char in password)):\n",
    "    print(\"Password is valid.\")\n",
    "else:\n",
    "    print(\"Invalid password. Must contain at least 8 characters, an uppercase letter, a lowercase letter, and a digit.\")\n"
   ]
  },
  {
   "cell_type": "code",
   "execution_count": null,
   "id": "a17fdb76",
   "metadata": {},
   "outputs": [],
   "source": []
  },
  {
   "cell_type": "code",
   "execution_count": null,
   "id": "0e8cf046",
   "metadata": {},
   "outputs": [],
   "source": []
  }
 ],
 "metadata": {
  "kernelspec": {
   "display_name": "Python 3 (ipykernel)",
   "language": "python",
   "name": "python3"
  },
  "language_info": {
   "codemirror_mode": {
    "name": "ipython",
    "version": 3
   },
   "file_extension": ".py",
   "mimetype": "text/x-python",
   "name": "python",
   "nbconvert_exporter": "python",
   "pygments_lexer": "ipython3",
   "version": "3.9.13"
  }
 },
 "nbformat": 4,
 "nbformat_minor": 5
}

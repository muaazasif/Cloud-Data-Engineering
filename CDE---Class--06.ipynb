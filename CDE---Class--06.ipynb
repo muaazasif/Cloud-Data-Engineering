{
 "cells": [
  {
   "cell_type": "markdown",
   "id": "5fced442",
   "metadata": {},
   "source": [
    "# Python\n",
    "\n",
    "**Why OOP was needed?**\n",
    "\n",
    "OOP is design pattern (systemic manner) that helps you to write code that can be easily, increase the overall readability of the code, helps you to wrote clean code and increased the  scalability to the over all applucation or program.\n",
    "\n",
    "**Pillars in the OOP**\n",
    "\n",
    "- Inheritance\n",
    "- Encapsulation\n",
    "- Polymorphism\n",
    "- Abstraction\n",
    "**Class** is basically a blueprint having attribute(properties/Characteristics) and methods (Functions). Like Car is Class having attribute,wheels, color,transmition, model, make, so on and method start, climate control, cruise control,..."
   ]
  },
  {
   "cell_type": "code",
   "execution_count": 27,
   "id": "e7b7aabb",
   "metadata": {},
   "outputs": [],
   "source": [
    "class human():\n",
    "    religion=\"Islam\"\n",
    "    def __init__(self,name,gender,age):\n",
    "        self.name=name\n",
    "        self.gender=gender\n",
    "        self.age=age\n",
    "    def greet(self):\n",
    "        print(\"Good Morning!!!\")\n",
    "    def info(self):\n",
    "        print('The Person',self.name,'is a',self.gender,'having an age of',self.age,'years!',human.religion)\n",
    "    def buddy(self,buddy):\n",
    "        self.buddy=buddy\n",
    "        buddy.buddy=self"
   ]
  },
  {
   "cell_type": "code",
   "execution_count": 28,
   "id": "b06ec8b3",
   "metadata": {},
   "outputs": [
    {
     "name": "stdout",
     "output_type": "stream",
     "text": [
      "Yasir\n",
      "Muaaz\n"
     ]
    }
   ],
   "source": [
    "Person1=human(\"Yasir\",\"Male\",25)\n",
    "Person2=human(\"Muaaz\",\"Male\",25)\n",
    "\n",
    "print(Person1.name)\n",
    "print(Person2.name)\n",
    "\n"
   ]
  },
  {
   "cell_type": "code",
   "execution_count": 29,
   "id": "22aa29df",
   "metadata": {},
   "outputs": [],
   "source": [
    "Person1.buddy(Person2)"
   ]
  },
  {
   "cell_type": "code",
   "execution_count": 30,
   "id": "2033403a",
   "metadata": {},
   "outputs": [
    {
     "name": "stdout",
     "output_type": "stream",
     "text": [
      "Muaaz\n",
      "The Person Yasir is a Male having an age of 25 years! Islam\n",
      "None\n"
     ]
    }
   ],
   "source": [
    "print(Person1.buddy.name)\n",
    "print(Person2.buddy.info())"
   ]
  },
  {
   "cell_type": "markdown",
   "id": "be91f41b",
   "metadata": {},
   "source": [
    "Craete a Class saylani having 3 attributes 2 methods one without arguement and 1 with arguement and 2 class varaibles \n",
    "also initaize 2 objects"
   ]
  },
  {
   "cell_type": "code",
   "execution_count": 33,
   "id": "33385e60",
   "metadata": {},
   "outputs": [],
   "source": [
    "class Saylani:\n",
    "    organization = \"Saylani Welfare Trust\"\n",
    "    branch = \"Head Office\"\n",
    "\n",
    "    def __init__(self, name, course, city):\n",
    "        self.name = name\n",
    "        self.course = course\n",
    "        self.city = city\n",
    "\n",
    "    def show_info(self):\n",
    "        print(f\"Name: {self.name}\")\n",
    "        print(f\"Course: {self.course}\")\n",
    "        print(f\"City: {self.city}\")\n",
    "        print(f\"Organization: {Saylani.organization}\")\n",
    "        print(f\"Branch: {Saylani.branch}\")\n",
    "\n",
    "    def update_course(self, new_course):\n",
    "        self.course = new_course\n",
    "        print(f\"Course updated to: {self.course}\")\n",
    "\n",
    "\n"
   ]
  },
  {
   "cell_type": "code",
   "execution_count": 34,
   "id": "53d5b304",
   "metadata": {},
   "outputs": [
    {
     "name": "stdout",
     "output_type": "stream",
     "text": [
      "Name: Ali\n",
      "Course: Python Programming\n",
      "City: Karachi\n",
      "Organization: Saylani Welfare Trust\n",
      "Branch: Head Office\n",
      "Name: Sara\n",
      "Course: Web Development\n",
      "City: Lahore\n",
      "Organization: Saylani Welfare Trust\n",
      "Branch: Head Office\n",
      "Course updated to: Data Science\n",
      "Name: Ali\n",
      "Course: Data Science\n",
      "City: Karachi\n",
      "Organization: Saylani Welfare Trust\n",
      "Branch: Head Office\n"
     ]
    }
   ],
   "source": [
    "# Creating two objects\n",
    "student1 = Saylani(\"Ali\", \"Python Programming\", \"Karachi\")\n",
    "student2 = Saylani(\"Sara\", \"Web Development\", \"Lahore\")\n",
    "\n",
    "# Using methods\n",
    "student1.show_info()\n",
    "student2.show_info()\n",
    "\n",
    "student1.update_course(\"Data Science\")\n",
    "student1.show_info()"
   ]
  },
  {
   "cell_type": "markdown",
   "id": "79310bac",
   "metadata": {},
   "source": [
    "# CLASS METHOD VS STATIC METHOD"
   ]
  },
  {
   "cell_type": "code",
   "execution_count": 44,
   "id": "63a287fe",
   "metadata": {},
   "outputs": [
    {
     "ename": "TypeError",
     "evalue": "printage() missing 1 required positional argument: 'self'",
     "output_type": "error",
     "traceback": [
      "\u001b[1;31m---------------------------------------------------------------------------\u001b[0m",
      "\u001b[1;31mTypeError\u001b[0m                                 Traceback (most recent call last)",
      "\u001b[1;32m~\\AppData\\Local\\Temp\\ipykernel_7244\\138373008.py\u001b[0m in \u001b[0;36m<module>\u001b[1;34m\u001b[0m\n\u001b[0;32m      6\u001b[0m     \u001b[1;32mdef\u001b[0m \u001b[0mprintage\u001b[0m\u001b[1;33m(\u001b[0m\u001b[0mself\u001b[0m\u001b[1;33m)\u001b[0m\u001b[1;33m:\u001b[0m\u001b[1;33m\u001b[0m\u001b[1;33m\u001b[0m\u001b[0m\n\u001b[0;32m      7\u001b[0m         \u001b[1;32mreturn\u001b[0m \u001b[1;34m'The age of the student is '\u001b[0m\u001b[1;33m+\u001b[0m\u001b[0mstr\u001b[0m\u001b[1;33m(\u001b[0m\u001b[0mself\u001b[0m\u001b[1;33m.\u001b[0m\u001b[0mage\u001b[0m\u001b[1;33m)\u001b[0m\u001b[1;33m\u001b[0m\u001b[1;33m\u001b[0m\u001b[0m\n\u001b[1;32m----> 8\u001b[1;33m \u001b[0mstud\u001b[0m\u001b[1;33m=\u001b[0m\u001b[0mstudent\u001b[0m\u001b[1;33m.\u001b[0m\u001b[0mprintage\u001b[0m\u001b[1;33m(\u001b[0m\u001b[1;33m)\u001b[0m\u001b[1;33m\u001b[0m\u001b[1;33m\u001b[0m\u001b[0m\n\u001b[0m\u001b[0;32m      9\u001b[0m \u001b[0mprint\u001b[0m\u001b[1;33m(\u001b[0m\u001b[0mstud\u001b[0m\u001b[1;33m)\u001b[0m\u001b[1;33m\u001b[0m\u001b[1;33m\u001b[0m\u001b[0m\n",
      "\u001b[1;31mTypeError\u001b[0m: printage() missing 1 required positional argument: 'self'"
     ]
    }
   ],
   "source": [
    "class student:\n",
    "    age=25\n",
    "    \n",
    "    #without class method direct call of a class method is not possible\n",
    "    \n",
    "    def printage(self):\n",
    "        return 'The age of the student is '+str(self.age)\n",
    "stud=student.printage()\n",
    "print(stud)"
   ]
  },
  {
   "cell_type": "code",
   "execution_count": 45,
   "id": "c8d1b13c",
   "metadata": {},
   "outputs": [
    {
     "name": "stdout",
     "output_type": "stream",
     "text": [
      "The age of the student is 25\n"
     ]
    }
   ],
   "source": [
    "class student:\n",
    "    age=25\n",
    "    \n",
    "    #without class method direct call of a class method is not possible\n",
    "    @classmethod\n",
    "    def printage(self):\n",
    "        return 'The age of the student is '+str(self.age)\n",
    "stud=student.printage()\n",
    "print(stud)"
   ]
  },
  {
   "cell_type": "markdown",
   "id": "372c5b6d",
   "metadata": {},
   "source": [
    "STATIC METHOD"
   ]
  },
  {
   "cell_type": "code",
   "execution_count": 47,
   "id": "b4b58950",
   "metadata": {},
   "outputs": [
    {
     "name": "stdout",
     "output_type": "stream",
     "text": [
      "25\n"
     ]
    }
   ],
   "source": [
    "class student:\n",
    "    age=25\n",
    "    \n",
    "    @staticmethod\n",
    "    def add(x,y):\n",
    "        return x+y\n",
    "    \n",
    "std = student.add(5,20)\n",
    "print(std)"
   ]
  },
  {
   "cell_type": "markdown",
   "id": "ea7bde6f",
   "metadata": {},
   "source": [
    "INHERITANCE"
   ]
  },
  {
   "cell_type": "code",
   "execution_count": 55,
   "id": "6f713440",
   "metadata": {},
   "outputs": [],
   "source": [
    "class parent():\n",
    "    def __init__(self,eye_color,skin_color):\n",
    "        self.eye_color=eye_color\n",
    "        self.skin_color=skin_color\n",
    "    def speak(self):\n",
    "        return \"Can speak English\"\n",
    "class child(parent):\n",
    "    pass"
   ]
  },
  {
   "cell_type": "code",
   "execution_count": 56,
   "id": "52c596e7",
   "metadata": {},
   "outputs": [
    {
     "name": "stdout",
     "output_type": "stream",
     "text": [
      "brown\n",
      "fair\n"
     ]
    },
    {
     "data": {
      "text/plain": [
       "'Can speak English'"
      ]
     },
     "execution_count": 56,
     "metadata": {},
     "output_type": "execute_result"
    }
   ],
   "source": [
    "parent_obj=parent('brown','fair')\n",
    "print(parent_obj.eye_color)\n",
    "print(parent_obj.skin_color)\n",
    "parent_obj.speak()"
   ]
  },
  {
   "cell_type": "code",
   "execution_count": 57,
   "id": "7abfb2ba",
   "metadata": {},
   "outputs": [
    {
     "data": {
      "text/plain": [
       "'Can speak English'"
      ]
     },
     "execution_count": 57,
     "metadata": {},
     "output_type": "execute_result"
    }
   ],
   "source": [
    "child_obj=child('black','fair')\n",
    "child_obj.speak()"
   ]
  },
  {
   "cell_type": "code",
   "execution_count": null,
   "id": "192cc015",
   "metadata": {},
   "outputs": [],
   "source": []
  }
 ],
 "metadata": {
  "kernelspec": {
   "display_name": "Python 3 (ipykernel)",
   "language": "python",
   "name": "python3"
  },
  "language_info": {
   "codemirror_mode": {
    "name": "ipython",
    "version": 3
   },
   "file_extension": ".py",
   "mimetype": "text/x-python",
   "name": "python",
   "nbconvert_exporter": "python",
   "pygments_lexer": "ipython3",
   "version": "3.9.13"
  }
 },
 "nbformat": 4,
 "nbformat_minor": 5
}

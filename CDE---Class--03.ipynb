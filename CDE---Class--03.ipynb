{
 "cells": [
  {
   "cell_type": "code",
   "execution_count": 1,
   "id": "6717503f",
   "metadata": {},
   "outputs": [],
   "source": [
    "cities=['karachi','islamabad','karachi']"
   ]
  },
  {
   "cell_type": "code",
   "execution_count": 2,
   "id": "7eb7adbd",
   "metadata": {},
   "outputs": [],
   "source": [
    "cities_set=set(cities)"
   ]
  },
  {
   "cell_type": "code",
   "execution_count": 3,
   "id": "9782f06e",
   "metadata": {},
   "outputs": [
    {
     "data": {
      "text/plain": [
       "{'islamabad', 'karachi'}"
      ]
     },
     "execution_count": 3,
     "metadata": {},
     "output_type": "execute_result"
    }
   ],
   "source": [
    "cities_set"
   ]
  },
  {
   "cell_type": "code",
   "execution_count": 4,
   "id": "f3624034",
   "metadata": {},
   "outputs": [
    {
     "name": "stdout",
     "output_type": "stream",
     "text": [
      "karachi\n",
      "islamabad\n",
      "karachi\n"
     ]
    }
   ],
   "source": [
    "for temp in cities:\n",
    "    print(temp)"
   ]
  },
  {
   "cell_type": "code",
   "execution_count": 6,
   "id": "a9dd1cbb",
   "metadata": {},
   "outputs": [
    {
     "name": "stdout",
     "output_type": "stream",
     "text": [
      "0\n",
      "1\n",
      "2\n",
      "3\n",
      "4\n",
      "5\n",
      "6\n",
      "7\n",
      "8\n",
      "9\n"
     ]
    }
   ],
   "source": [
    "for temp in range(10):\n",
    "    print(temp)"
   ]
  },
  {
   "cell_type": "code",
   "execution_count": 10,
   "id": "b6302321",
   "metadata": {},
   "outputs": [
    {
     "name": "stdout",
     "output_type": "stream",
     "text": [
      "0 index value is karachi\n",
      "1 index value is islamabad\n",
      "2 index value is karachi\n"
     ]
    }
   ],
   "source": [
    "for temp in range(len(cities)):\n",
    "    print(f\"{temp} index value is {cities[temp]}\")"
   ]
  },
  {
   "cell_type": "code",
   "execution_count": 13,
   "id": "2e2722ea",
   "metadata": {},
   "outputs": [
    {
     "name": "stdout",
     "output_type": "stream",
     "text": [
      "1\n",
      "2\n",
      "3\n",
      "a\n",
      "b\n",
      "c\n",
      "@\n",
      "#\n",
      "$\n"
     ]
    }
   ],
   "source": [
    "for temp in [[1,2,3],['a','b','c'],['@','#','$']]:\n",
    "    for item in temp:\n",
    "        print(item)"
   ]
  },
  {
   "cell_type": "code",
   "execution_count": 15,
   "id": "f2e4a875",
   "metadata": {},
   "outputs": [
    {
     "name": "stdout",
     "output_type": "stream",
     "text": [
      "0\n",
      "2\n",
      "4\n",
      "6\n",
      "8\n"
     ]
    }
   ],
   "source": [
    "for temp in range(0,10,2):\n",
    "    print(temp)"
   ]
  },
  {
   "cell_type": "code",
   "execution_count": 26,
   "id": "1b272fd5",
   "metadata": {},
   "outputs": [
    {
     "name": "stdout",
     "output_type": "stream",
     "text": [
      "Enter a number: 10\n",
      "Enter a number: 15\n",
      "Enter a number: 20\n",
      "Enter a number: 25\n",
      "Enter a number: 30\n",
      "Enter a number: 35\n",
      "Enter a number: 40\n",
      "Enter a number: 45\n",
      "\n",
      "Sum of all numbers: 220\n"
     ]
    }
   ],
   "source": [
    "total = 0\n",
    "\n",
    "for temp in range(10, 50, 5):\n",
    "    print(f\"Enter a number: {temp}\")\n",
    "    total =total + temp\n",
    "\n",
    "print(\"\\nSum of all numbers:\", total)\n"
   ]
  },
  {
   "cell_type": "code",
   "execution_count": 28,
   "id": "3dc9abb5",
   "metadata": {},
   "outputs": [
    {
     "name": "stdout",
     "output_type": "stream",
     "text": [
      "Enter a Number : 10\n",
      "Enter a Number : 20\n",
      "Enter a Number : 30\n",
      "Enter a Number : 10\n",
      "Enter a Number : 10\n",
      "\n",
      "Sum of all numbers: 80\n"
     ]
    }
   ],
   "source": [
    "total = 0\n",
    "for temp in range(5):\n",
    "    value=int(input(\"Enter a Number : \"))\n",
    "    total =total + value\n",
    "\n",
    "print(\"\\nSum of all numbers:\", total)\n",
    "    "
   ]
  },
  {
   "cell_type": "code",
   "execution_count": 29,
   "id": "a6b89e38",
   "metadata": {},
   "outputs": [
    {
     "data": {
      "text/plain": [
       "'MUAAZ'"
      ]
     },
     "execution_count": 29,
     "metadata": {},
     "output_type": "execute_result"
    }
   ],
   "source": [
    "'muaaz'.upper()"
   ]
  },
  {
   "cell_type": "code",
   "execution_count": 30,
   "id": "24ffcc66",
   "metadata": {},
   "outputs": [
    {
     "data": {
      "text/plain": [
       "'Muaaz'"
      ]
     },
     "execution_count": 30,
     "metadata": {},
     "output_type": "execute_result"
    }
   ],
   "source": [
    "'muaaz'.title()"
   ]
  },
  {
   "cell_type": "code",
   "execution_count": 31,
   "id": "b7ecce12",
   "metadata": {},
   "outputs": [
    {
     "data": {
      "text/plain": [
       "'muaaz'"
      ]
     },
     "execution_count": 31,
     "metadata": {},
     "output_type": "execute_result"
    }
   ],
   "source": [
    "'muaaz'.lower()"
   ]
  },
  {
   "cell_type": "markdown",
   "id": "c8d763f6",
   "metadata": {},
   "source": [
    "# Dictionary"
   ]
  },
  {
   "cell_type": "code",
   "execution_count": 47,
   "id": "e528526e",
   "metadata": {},
   "outputs": [],
   "source": [
    "bio={'FirstName':'Muaaz',\n",
    "     'LastName' : 'Asif',\n",
    "     'Date of Birth' : '27-12-1999',\n",
    "     'weight':77}"
   ]
  },
  {
   "cell_type": "code",
   "execution_count": 48,
   "id": "ae642160",
   "metadata": {},
   "outputs": [
    {
     "data": {
      "text/plain": [
       "{'FirstName': 'Muaaz',\n",
       " 'LastName': 'Asif',\n",
       " 'Date of Birth': '27-12-1999',\n",
       " 'weight': 77}"
      ]
     },
     "execution_count": 48,
     "metadata": {},
     "output_type": "execute_result"
    }
   ],
   "source": [
    "bio"
   ]
  },
  {
   "cell_type": "code",
   "execution_count": 49,
   "id": "36afa345",
   "metadata": {},
   "outputs": [
    {
     "data": {
      "text/plain": [
       "dict_values(['Muaaz', 'Asif', '27-12-1999', 77])"
      ]
     },
     "execution_count": 49,
     "metadata": {},
     "output_type": "execute_result"
    }
   ],
   "source": [
    "bio.values()"
   ]
  },
  {
   "cell_type": "code",
   "execution_count": 50,
   "id": "1af80f23",
   "metadata": {},
   "outputs": [
    {
     "data": {
      "text/plain": [
       "dict_keys(['FirstName', 'LastName', 'Date of Birth', 'weight'])"
      ]
     },
     "execution_count": 50,
     "metadata": {},
     "output_type": "execute_result"
    }
   ],
   "source": [
    "bio.keys()"
   ]
  },
  {
   "cell_type": "code",
   "execution_count": 51,
   "id": "e3ddff2b",
   "metadata": {},
   "outputs": [
    {
     "data": {
      "text/plain": [
       "dict_items([('FirstName', 'Muaaz'), ('LastName', 'Asif'), ('Date of Birth', '27-12-1999'), ('weight', 77)])"
      ]
     },
     "execution_count": 51,
     "metadata": {},
     "output_type": "execute_result"
    }
   ],
   "source": [
    "bio.items()"
   ]
  },
  {
   "cell_type": "code",
   "execution_count": 52,
   "id": "51976090",
   "metadata": {},
   "outputs": [
    {
     "name": "stdout",
     "output_type": "stream",
     "text": [
      "Key FirstName have value Muaaz\n",
      "Key LastName have value Asif\n",
      "Key Date of Birth have value 27-12-1999\n",
      "Key weight have value 77\n"
     ]
    }
   ],
   "source": [
    "for key, value in bio.items():\n",
    "    print('Key',key,'have value', value)\n"
   ]
  },
  {
   "cell_type": "code",
   "execution_count": null,
   "id": "f1a69954",
   "metadata": {},
   "outputs": [],
   "source": []
  },
  {
   "cell_type": "code",
   "execution_count": null,
   "id": "86cd2341",
   "metadata": {},
   "outputs": [],
   "source": []
  }
 ],
 "metadata": {
  "kernelspec": {
   "display_name": "Python 3 (ipykernel)",
   "language": "python",
   "name": "python3"
  },
  "language_info": {
   "codemirror_mode": {
    "name": "ipython",
    "version": 3
   },
   "file_extension": ".py",
   "mimetype": "text/x-python",
   "name": "python",
   "nbconvert_exporter": "python",
   "pygments_lexer": "ipython3",
   "version": "3.9.13"
  }
 },
 "nbformat": 4,
 "nbformat_minor": 5
}
